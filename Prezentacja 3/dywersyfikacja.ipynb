{
 "cells": [
  {
   "cell_type": "code",
   "execution_count": 28,
   "metadata": {},
   "outputs": [],
   "source": [
    "import numpy as np\n",
    "import matplotlib.pyplot as plt\n",
    "import pandas as pd\n",
    "import seaborn as sns"
   ]
  },
  {
   "cell_type": "markdown",
   "metadata": {},
   "source": [
    "# 1. Przygotowanie danych"
   ]
  },
  {
   "cell_type": "code",
   "execution_count": 2,
   "metadata": {},
   "outputs": [],
   "source": [
    "cocoa = pd.read_csv('Cocoa.csv')\n",
    "milk = pd.read_csv('Milk.csv')\n",
    "sugar = pd.read_csv('Sugar.csv')"
   ]
  },
  {
   "cell_type": "code",
   "execution_count": 3,
   "metadata": {},
   "outputs": [],
   "source": [
    "cocoa['Date'] = pd.to_datetime(cocoa['Date'])\n",
    "milk['Date'] = pd.to_datetime(milk['Date'])\n",
    "sugar['Date'] = pd.to_datetime(sugar['Date'])"
   ]
  },
  {
   "cell_type": "code",
   "execution_count": 4,
   "metadata": {},
   "outputs": [],
   "source": [
    "cocoa['Close/Last'] = cocoa['Close/Last'].astype(float)\n",
    "milk['Close/Last'] = milk['Close/Last'].astype(float)\n",
    "sugar['Close/Last'] = sugar['Close/Last'].astype(float)"
   ]
  },
  {
   "cell_type": "code",
   "execution_count": 12,
   "metadata": {},
   "outputs": [],
   "source": [
    "# Losowo wybrana wartość, żeby było tyle samo obserwacji XD\n",
    "cocoa.drop(labels=[373],axis=0,inplace=True)\n",
    "sugar.drop(labels=[373],axis=0,inplace=True)"
   ]
  },
  {
   "cell_type": "code",
   "execution_count": 13,
   "metadata": {},
   "outputs": [],
   "source": [
    "cocoa.reset_index(inplace=True)\n",
    "sugar.reset_index(inplace=True)"
   ]
  },
  {
   "cell_type": "markdown",
   "metadata": {},
   "source": [
    "Zamiana danych na stopy procentowe."
   ]
  },
  {
   "cell_type": "code",
   "execution_count": 19,
   "metadata": {},
   "outputs": [],
   "source": [
    "T = 1/252\n",
    "cocoa_close = np.array([round((cocoa['Close/Last'][i] - cocoa['Close/Last'][i+1])/(cocoa['Close/Last'][i+1] * T),3) for i in range(len(cocoa)-1)])\n",
    "milk_close = np.array([round((milk['Close/Last'][i] - milk['Close/Last'][i+1])/(milk['Close/Last'][i+1] * T), 3) for i in range(len(milk)-1)])\n",
    "sugar_close = np.array([round((sugar['Close/Last'][i] - sugar['Close/Last'][i+1])/(sugar['Close/Last'][i+1] * T), 3) for i in range(len(sugar)-1)])"
   ]
  },
  {
   "cell_type": "code",
   "execution_count": 20,
   "metadata": {},
   "outputs": [],
   "source": [
    "cocoa_close /= 100\n",
    "milk_close /= 100\n",
    "sugar_close /= 100"
   ]
  },
  {
   "cell_type": "markdown",
   "metadata": {},
   "source": [
    "# 2. "
   ]
  },
  {
   "cell_type": "code",
   "execution_count": 21,
   "metadata": {},
   "outputs": [
    {
     "name": "stdout",
     "output_type": "stream",
     "text": [
      "0.001117537728355838 0.046824757568405186\n",
      "0.0017505321683876094 0.06295608405526686\n",
      "0.00079417791898332 0.047974620097403456\n"
     ]
    }
   ],
   "source": [
    "mu_c = np.mean(cocoa_close)\n",
    "sigma_c = np.std(cocoa_close)\n",
    "print(mu_c, sigma_c)\n",
    "\n",
    "mu_m = np.mean(milk_close)\n",
    "sigma_m = np.std(milk_close)\n",
    "print(mu_m, sigma_m)\n",
    "\n",
    "mu_s = np.mean(sugar_close)\n",
    "sigma_s = np.std(sugar_close)\n",
    "print(mu_s, sigma_s)"
   ]
  },
  {
   "cell_type": "code",
   "execution_count": 22,
   "metadata": {},
   "outputs": [],
   "source": [
    "n = len(cocoa_close)\n",
    "C = cocoa_close.reshape(1,n)\n",
    "M = milk_close.reshape(1,n)\n",
    "S = sugar_close.reshape(1,n)\n",
    "R = np.concatenate([C,M,S],axis=0)"
   ]
  },
  {
   "cell_type": "code",
   "execution_count": 26,
   "metadata": {},
   "outputs": [],
   "source": [
    "corr = np.corrcoef(R)"
   ]
  },
  {
   "cell_type": "code",
   "execution_count": 27,
   "metadata": {},
   "outputs": [
    {
     "data": {
      "text/plain": [
       "array([[ 1.        ,  0.02851148,  0.0816635 ],\n",
       "       [ 0.02851148,  1.        , -0.00896709],\n",
       "       [ 0.0816635 , -0.00896709,  1.        ]])"
      ]
     },
     "execution_count": 27,
     "metadata": {},
     "output_type": "execute_result"
    }
   ],
   "source": [
    "corr"
   ]
  },
  {
   "cell_type": "code",
   "execution_count": 29,
   "metadata": {},
   "outputs": [
    {
     "data": {
      "text/plain": [
       "<AxesSubplot:>"
      ]
     },
     "execution_count": 29,
     "metadata": {},
     "output_type": "execute_result"
    },
    {
     "data": {
      "image/png": "[encoded data removed]",
      "text/plain": [
       "<Figure size 432x288 with 2 Axes>"
      ]
     },
     "metadata": {
      "needs_background": "light"
     },
     "output_type": "display_data"
    }
   ],
   "source": [
    "sns.heatmap(corr)"
   ]
  },
  {
   "cell_type": "code",
   "execution_count": 31,
   "metadata": {},
   "outputs": [
    {
     "data": {
      "text/plain": [
       "array([0. , 0.1, 0.2, 0.3, 0.4, 0.5, 0.6, 0.7, 0.8, 0.9, 1. ])"
      ]
     },
     "execution_count": 31,
     "metadata": {},
     "output_type": "execute_result"
    }
   ],
   "source": [
    "np.arange(0,1.1,0.1)"
   ]
  }
 ],
 "metadata": {
  "interpreter": {
   "hash": "a0435b274fc191f40906c60f7b4b203f900dcce434d403500b9fa3f5d36f4509"
  },
  "kernelspec": {
   "display_name": "Python 3.8.8",
   "language": "python",
   "name": "python3"
  },
  "language_info": {
   "codemirror_mode": {
    "name": "ipython",
    "version": 3
   },
   "file_extension": ".py",
   "mimetype": "text/x-python",
   "name": "python",
   "nbconvert_exporter": "python",
   "pygments_lexer": "ipython3",
   "version": "3.8.8"
  },
  "orig_nbformat": 4
 },
 "nbformat": 4,
 "nbformat_minor": 2
}
