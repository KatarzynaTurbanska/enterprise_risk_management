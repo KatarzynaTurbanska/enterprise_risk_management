{
 "cells": [
  {
   "cell_type": "code",
   "execution_count": 115,
   "metadata": {},
   "outputs": [],
   "source": [
    "import numpy as np\n",
    "import matplotlib.pyplot as plt\n",
    "import pandas as pd\n",
    "import seaborn as sns\n",
    "\n",
    "import warnings\n",
    "warnings.filterwarnings(\"ignore\")\n",
    "\n",
    "plt.rcParams[\"figure.figsize\"] = (12,7)\n",
    "plt.rcParams['axes.grid'] = True\n",
    "plt.rcParams['grid.linestyle'] = \"--\"\n",
    "plt.rcParams['savefig.facecolor']='white'"
   ]
  },
  {
   "cell_type": "markdown",
   "metadata": {},
   "source": [
    "# Przygotowanie danych"
   ]
  },
  {
   "cell_type": "code",
   "execution_count": 116,
   "metadata": {},
   "outputs": [],
   "source": [
    "cocoa = pd.read_csv('Cocoa.csv')\n",
    "milk = pd.read_csv('Milk.csv')\n",
    "sugar = pd.read_csv('Sugar.csv')"
   ]
  },
  {
   "cell_type": "code",
   "execution_count": 117,
   "metadata": {},
   "outputs": [],
   "source": [
    "cocoa['Date'] = pd.to_datetime(cocoa['Date'])\n",
    "milk['Date'] = pd.to_datetime(milk['Date'])\n",
    "sugar['Date'] = pd.to_datetime(sugar['Date'])"
   ]
  },
  {
   "cell_type": "code",
   "execution_count": 118,
   "metadata": {},
   "outputs": [],
   "source": [
    "cocoa['Close/Last'] = cocoa['Close/Last'].astype(float)\n",
    "milk['Close/Last'] = milk['Close/Last'].astype(float)\n",
    "sugar['Close/Last'] = sugar['Close/Last'].astype(float)"
   ]
  },
  {
   "cell_type": "code",
   "execution_count": 119,
   "metadata": {},
   "outputs": [],
   "source": [
    "# Losowo wybrana wartość, żeby było tyle samo obserwacji XD\n",
    "cocoa.drop(labels=[373],axis=0,inplace=True)\n",
    "sugar.drop(labels=[373],axis=0,inplace=True)"
   ]
  },
  {
   "cell_type": "code",
   "execution_count": 120,
   "metadata": {},
   "outputs": [],
   "source": [
    "cocoa.reset_index(inplace=True)\n",
    "sugar.reset_index(inplace=True)"
   ]
  },
  {
   "cell_type": "markdown",
   "metadata": {},
   "source": [
    "Zamiana danych na stopy procentowe."
   ]
  },
  {
   "cell_type": "code",
   "execution_count": 121,
   "metadata": {},
   "outputs": [],
   "source": [
    "T = 1/252\n",
    "cocoa_close = np.array([round((cocoa['Close/Last'][i] - cocoa['Close/Last'][i+1])/(cocoa['Close/Last'][i+1] * T),3) for i in range(len(cocoa)-1)])\n",
    "milk_close = np.array([round((milk['Close/Last'][i] - milk['Close/Last'][i+1])/(milk['Close/Last'][i+1] * T), 3) for i in range(len(milk)-1)])\n",
    "sugar_close = np.array([round((sugar['Close/Last'][i] - sugar['Close/Last'][i+1])/(sugar['Close/Last'][i+1] * T), 3) for i in range(len(sugar)-1)])"
   ]
  },
  {
   "cell_type": "code",
   "execution_count": 122,
   "metadata": {},
   "outputs": [],
   "source": [
    "cocoa_close /= 100\n",
    "milk_close /= 100\n",
    "sugar_close /= 100"
   ]
  },
  {
   "cell_type": "markdown",
   "metadata": {},
   "source": [
    "# 1. Estymacja średnich, odchyleń standardowych i korelacji"
   ]
  },
  {
   "cell_type": "code",
   "execution_count": 123,
   "metadata": {},
   "outputs": [
    {
     "name": "stdout",
     "output_type": "stream",
     "text": [
      "0.001117537728355838 0.046824757568405186\n",
      "0.0017505321683876094 0.06295608405526686\n",
      "0.00079417791898332 0.047974620097403456\n"
     ]
    }
   ],
   "source": [
    "mu_c = np.mean(cocoa_close)\n",
    "sigma_c = np.std(cocoa_close)\n",
    "print(mu_c, sigma_c)\n",
    "\n",
    "mu_m = np.mean(milk_close)\n",
    "sigma_m = np.std(milk_close)\n",
    "print(mu_m, sigma_m)\n",
    "\n",
    "mu_s = np.mean(sugar_close)\n",
    "sigma_s = np.std(sugar_close)\n",
    "print(mu_s, sigma_s)"
   ]
  },
  {
   "cell_type": "code",
   "execution_count": 124,
   "metadata": {},
   "outputs": [],
   "source": [
    "n = len(cocoa_close)\n",
    "C = cocoa_close.reshape(1,n)\n",
    "M = milk_close.reshape(1,n)\n",
    "S = sugar_close.reshape(1,n)\n",
    "R = np.concatenate([C,M,S],axis=0)"
   ]
  },
  {
   "cell_type": "code",
   "execution_count": 125,
   "metadata": {},
   "outputs": [],
   "source": [
    "corr = np.corrcoef(R)"
   ]
  },
  {
   "cell_type": "code",
   "execution_count": 126,
   "metadata": {},
   "outputs": [
    {
     "data": {
      "image/png": "[encoded data removed]",
      "text/plain": [
       "<Figure size 864x504 with 2 Axes>"
      ]
     },
     "metadata": {
      "needs_background": "light"
     },
     "output_type": "display_data"
    }
   ],
   "source": [
    "sns.heatmap(corr, annot=True, cmap=\"crest\", vmin=-1, vmax=1)\n",
    "plt.title(\"Macierz korelacji\", fontsize=20)\n",
    "plt.show()"
   ]
  },
  {
   "cell_type": "markdown",
   "metadata": {},
   "source": [
    "## a) stopa zwrotu i ryzyko portfela z rzeczywistymi wagami "
   ]
  },
  {
   "cell_type": "code",
   "execution_count": 127,
   "metadata": {},
   "outputs": [],
   "source": [
    "Rp = 0.5 * cocoa_close + 0.2 * milk_close + 0.3 * sugar_close"
   ]
  },
  {
   "cell_type": "code",
   "execution_count": 128,
   "metadata": {},
   "outputs": [
    {
     "name": "stdout",
     "output_type": "stream",
     "text": [
      "Stopa zwrotu porfela: 0.0011471286735504369, ryzyko portfela: 0.031343476067965996.\n"
     ]
    }
   ],
   "source": [
    "print(\"Stopa zwrotu porfela: {}, ryzyko portfela: {}.\".format(np.mean(Rp),np.std(Rp)))"
   ]
  },
  {
   "cell_type": "markdown",
   "metadata": {},
   "source": [
    "## b) możliwe portfele dla różnych wag"
   ]
  },
  {
   "cell_type": "code",
   "execution_count": 129,
   "metadata": {},
   "outputs": [],
   "source": [
    "param_list = np.arange(0,1.1,0.05)"
   ]
  },
  {
   "cell_type": "code",
   "execution_count": 130,
   "metadata": {},
   "outputs": [],
   "source": [
    "combinations = []\n",
    "for j in range(len(param_list)-1):\n",
    "    for i in range(len(param_list)-1):\n",
    "        vec = np.array([param_list[j], param_list[i], round(1-param_list[i]-param_list[j],2)])\n",
    "        if (vec >= 0).sum() == vec.size and (vec <= 1).sum() == vec.size:\n",
    "            combinations.append(vec)\n"
   ]
  },
  {
   "cell_type": "code",
   "execution_count": 131,
   "metadata": {},
   "outputs": [],
   "source": [
    "expected_values = []\n",
    "standard_deviations = []\n",
    "\n",
    "for comb in combinations:\n",
    "    R = comb[0] * cocoa_close + comb[1] * milk_close + comb[2] * sugar_close\n",
    "    expected_values.append(np.mean(R))\n",
    "    standard_deviations.append(np.std(R))"
   ]
  },
  {
   "cell_type": "code",
   "execution_count": 135,
   "metadata": {},
   "outputs": [
    {
     "data": {
      "image/png": "[encoded data removed]",
      "text/plain": [
       "<Figure size 864x504 with 1 Axes>"
      ]
     },
     "metadata": {
      "needs_background": "light"
     },
     "output_type": "display_data"
    }
   ],
   "source": [
    "plt.scatter(standard_deviations, expected_values, color=\"#188781\")\n",
    "plt.title(\"Możliwe portfele dla różnych wag\", fontsize=20)\n",
    "plt.xlabel(r\"$\\sigma_p$\", fontsize=15, loc=\"right\")\n",
    "plt.ylabel(r\"$E(R_p)$\", fontsize=15, rotation=0, loc=\"top\")\n",
    "plt.show()"
   ]
  },
  {
   "cell_type": "markdown",
   "metadata": {},
   "source": [
    "## c) portfel o minimalnym ryzyku"
   ]
  },
  {
   "cell_type": "code",
   "execution_count": 133,
   "metadata": {},
   "outputs": [
    {
     "data": {
      "text/plain": [
       "145"
      ]
     },
     "execution_count": 133,
     "metadata": {},
     "output_type": "execute_result"
    }
   ],
   "source": [
    "standard_deviations.index(min(standard_deviations))"
   ]
  },
  {
   "cell_type": "code",
   "execution_count": 134,
   "metadata": {},
   "outputs": [
    {
     "data": {
      "text/plain": [
       "(0.0011626104050833999, 0.03072301418461879, array([0.4 , 0.25, 0.35]))"
      ]
     },
     "execution_count": 134,
     "metadata": {},
     "output_type": "execute_result"
    }
   ],
   "source": [
    "expected_values[145], standard_deviations[145], combinations[145]"
   ]
  }
 ],
 "metadata": {
  "interpreter": {
   "hash": "a0435b274fc191f40906c60f7b4b203f900dcce434d403500b9fa3f5d36f4509"
  },
  "kernelspec": {
   "display_name": "Python 3.8.8",
   "language": "python",
   "name": "python3"
  },
  "language_info": {
   "codemirror_mode": {
    "name": "ipython",
    "version": 3
   },
   "file_extension": ".py",
   "mimetype": "text/x-python",
   "name": "python",
   "nbconvert_exporter": "python",
   "pygments_lexer": "ipython3",
   "version": "3.7.4"
  },
  "orig_nbformat": 4
 },
 "nbformat": 4,
 "nbformat_minor": 2
}
