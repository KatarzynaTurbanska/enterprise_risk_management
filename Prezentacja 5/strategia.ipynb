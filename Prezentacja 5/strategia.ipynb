{
 "cells": [
  {
   "cell_type": "markdown",
   "metadata": {},
   "source": [
    "## Strategia"
   ]
  },
  {
   "cell_type": "code",
   "execution_count": 1,
   "metadata": {},
   "outputs": [],
   "source": [
    "from math import log, sqrt, pi, exp\n",
    "from scipy.stats import norm\n",
    "import numpy as np\n",
    "import pandas as pd\n",
    "\n",
    "\n",
    "#wyceniam opcje za pomoca Black Scholesa\n",
    "def d1(S,K,T,r,sigma):\n",
    "    return(log(S/K)+(r+sigma**2/2.)*T)/(sigma*sqrt(T))\n",
    "def d2(S,K,T,r,sigma):\n",
    "    return d1(S,K,T,r,sigma)-sigma*sqrt(T)"
   ]
  },
  {
   "cell_type": "code",
   "execution_count": 2,
   "metadata": {},
   "outputs": [],
   "source": [
    "def bs_call(S,K,T,r,sigma):\n",
    "    return S*norm.cdf(d1(S,K,T,r,sigma))-K*exp(-r*T)*norm.cdf(d2(S,K,T,r,sigma))\n",
    "  \n",
    "def bs_put(S,K,T,r,sigma):\n",
    "    return K*exp(-r*T)-S*bs_call(S,K,T,r,sigma)"
   ]
  },
  {
   "cell_type": "code",
   "execution_count": 3,
   "metadata": {},
   "outputs": [],
   "source": [
    "df = pd.read_csv(\"cocoa.csv\")\n",
    "df.dropna()\n",
    "df = df.assign(close_day_before=df.Close.shift(1))\n",
    "df['returns'] = ((df.Close - df.close_day_before)/df.close_day_before)"
   ]
  },
  {
   "cell_type": "code",
   "execution_count": 4,
   "metadata": {},
   "outputs": [],
   "source": [
    "sigma = np.sqrt(252) * df['returns'].std() "
   ]
  },
  {
   "cell_type": "code",
   "execution_count": 25,
   "metadata": {},
   "outputs": [],
   "source": [
    "lcp = df['Close'].iloc[-1] #ostatnia cena, \n",
    "t = 90/365 #data wygasniecia , 3 m-ce\n",
    "strike_price = 2442\n",
    "r = 0.06 #r wolna od ryzyka"
   ]
  },
  {
   "cell_type": "code",
   "execution_count": 26,
   "metadata": {},
   "outputs": [
    {
     "data": {
      "text/plain": [
       "140.49864685914895"
      ]
     },
     "execution_count": 26,
     "metadata": {},
     "output_type": "execute_result"
    }
   ],
   "source": [
    "prem = bs_call(lcp, strike_price, t, 0.05, sigma) #robimy long calla (chyba)\n",
    "prem"
   ]
  },
  {
   "cell_type": "code",
   "execution_count": 27,
   "metadata": {},
   "outputs": [
    {
     "data": {
      "text/plain": [
       "2582.4986468591487"
      ]
     },
     "execution_count": 27,
     "metadata": {},
     "output_type": "execute_result"
    }
   ],
   "source": [
    "cena_o = prem + strike_price\n",
    "cena_o"
   ]
  },
  {
   "cell_type": "code",
   "execution_count": 28,
   "metadata": {},
   "outputs": [],
   "source": [
    "ceny = np.arange(-500,500,1) + lcp #hipotetyczne ceny, zmiennosc co 1 dolar\n",
    "#ceny"
   ]
  },
  {
   "cell_type": "code",
   "execution_count": 29,
   "metadata": {},
   "outputs": [],
   "source": [
    "cena_opcji = []\n",
    "for i in ceny:\n",
    "    if i >= cena_o:\n",
    "        cena_opcji.append(cena_o)\n",
    "    else:\n",
    "        cena_opcji.append(i+prem)"
   ]
  },
  {
   "cell_type": "code",
   "execution_count": 30,
   "metadata": {},
   "outputs": [
    {
     "data": {
      "text/plain": [
       "[2082.4986468591487,\n",
       " 2083.4986468591487,\n",
       " 2084.4986468591487,\n",
       " 2085.4986468591487,\n",
       " 2086.4986468591487,\n",
       " 2087.4986468591487,\n",
       " 2088.4986468591487,\n",
       " 2089.4986468591487,\n",
       " 2090.4986468591487,\n",
       " 2091.4986468591487]"
      ]
     },
     "execution_count": 30,
     "metadata": {},
     "output_type": "execute_result"
    }
   ],
   "source": [
    "cena_opcji[:10]"
   ]
  },
  {
   "cell_type": "code",
   "execution_count": 31,
   "metadata": {},
   "outputs": [
    {
     "data": {
      "text/html": [
       "<div>\n",
       "<style scoped>\n",
       "    .dataframe tbody tr th:only-of-type {\n",
       "        vertical-align: middle;\n",
       "    }\n",
       "\n",
       "    .dataframe tbody tr th {\n",
       "        vertical-align: top;\n",
       "    }\n",
       "\n",
       "    .dataframe thead th {\n",
       "        text-align: right;\n",
       "    }\n",
       "</style>\n",
       "<table border=\"1\" class=\"dataframe\">\n",
       "  <thead>\n",
       "    <tr style=\"text-align: right;\">\n",
       "      <th></th>\n",
       "      <th>Cena kakao</th>\n",
       "      <th>cena opcji</th>\n",
       "    </tr>\n",
       "  </thead>\n",
       "  <tbody>\n",
       "    <tr>\n",
       "      <th>495</th>\n",
       "      <td>2437.0</td>\n",
       "      <td>2577.498647</td>\n",
       "    </tr>\n",
       "    <tr>\n",
       "      <th>496</th>\n",
       "      <td>2438.0</td>\n",
       "      <td>2578.498647</td>\n",
       "    </tr>\n",
       "    <tr>\n",
       "      <th>497</th>\n",
       "      <td>2439.0</td>\n",
       "      <td>2579.498647</td>\n",
       "    </tr>\n",
       "    <tr>\n",
       "      <th>498</th>\n",
       "      <td>2440.0</td>\n",
       "      <td>2580.498647</td>\n",
       "    </tr>\n",
       "    <tr>\n",
       "      <th>499</th>\n",
       "      <td>2441.0</td>\n",
       "      <td>2581.498647</td>\n",
       "    </tr>\n",
       "    <tr>\n",
       "      <th>500</th>\n",
       "      <td>2442.0</td>\n",
       "      <td>2582.498647</td>\n",
       "    </tr>\n",
       "    <tr>\n",
       "      <th>501</th>\n",
       "      <td>2443.0</td>\n",
       "      <td>2583.498647</td>\n",
       "    </tr>\n",
       "    <tr>\n",
       "      <th>502</th>\n",
       "      <td>2444.0</td>\n",
       "      <td>2584.498647</td>\n",
       "    </tr>\n",
       "    <tr>\n",
       "      <th>503</th>\n",
       "      <td>2445.0</td>\n",
       "      <td>2585.498647</td>\n",
       "    </tr>\n",
       "    <tr>\n",
       "      <th>504</th>\n",
       "      <td>2446.0</td>\n",
       "      <td>2586.498647</td>\n",
       "    </tr>\n",
       "  </tbody>\n",
       "</table>\n",
       "</div>"
      ],
      "text/plain": [
       "     Cena kakao   cena opcji\n",
       "495      2437.0  2577.498647\n",
       "496      2438.0  2578.498647\n",
       "497      2439.0  2579.498647\n",
       "498      2440.0  2580.498647\n",
       "499      2441.0  2581.498647\n",
       "500      2442.0  2582.498647\n",
       "501      2443.0  2583.498647\n",
       "502      2444.0  2584.498647\n",
       "503      2445.0  2585.498647\n",
       "504      2446.0  2586.498647"
      ]
     },
     "execution_count": 31,
     "metadata": {},
     "output_type": "execute_result"
    }
   ],
   "source": [
    "d = {'Cena kakao':ceny,'cena opcji':cena_opcji}\n",
    "porownanie = pd.DataFrame(d)\n",
    "porownanie.iloc[495:505]"
   ]
  },
  {
   "cell_type": "code",
   "execution_count": 32,
   "metadata": {},
   "outputs": [],
   "source": [
    "porownanie[\"zysk/strata\"] = porownanie[\"Cena kakao\"]-porownanie[\"cena opcji\"]"
   ]
  },
  {
   "cell_type": "code",
   "execution_count": 33,
   "metadata": {},
   "outputs": [
    {
     "data": {
      "text/html": [
       "<div>\n",
       "<style scoped>\n",
       "    .dataframe tbody tr th:only-of-type {\n",
       "        vertical-align: middle;\n",
       "    }\n",
       "\n",
       "    .dataframe tbody tr th {\n",
       "        vertical-align: top;\n",
       "    }\n",
       "\n",
       "    .dataframe thead th {\n",
       "        text-align: right;\n",
       "    }\n",
       "</style>\n",
       "<table border=\"1\" class=\"dataframe\">\n",
       "  <thead>\n",
       "    <tr style=\"text-align: right;\">\n",
       "      <th></th>\n",
       "      <th>Cena kakao</th>\n",
       "      <th>cena opcji</th>\n",
       "      <th>zysk/strata</th>\n",
       "    </tr>\n",
       "  </thead>\n",
       "  <tbody>\n",
       "    <tr>\n",
       "      <th>495</th>\n",
       "      <td>2437.0</td>\n",
       "      <td>2577.498647</td>\n",
       "      <td>-140.498647</td>\n",
       "    </tr>\n",
       "    <tr>\n",
       "      <th>496</th>\n",
       "      <td>2438.0</td>\n",
       "      <td>2578.498647</td>\n",
       "      <td>-140.498647</td>\n",
       "    </tr>\n",
       "    <tr>\n",
       "      <th>497</th>\n",
       "      <td>2439.0</td>\n",
       "      <td>2579.498647</td>\n",
       "      <td>-140.498647</td>\n",
       "    </tr>\n",
       "    <tr>\n",
       "      <th>498</th>\n",
       "      <td>2440.0</td>\n",
       "      <td>2580.498647</td>\n",
       "      <td>-140.498647</td>\n",
       "    </tr>\n",
       "    <tr>\n",
       "      <th>499</th>\n",
       "      <td>2441.0</td>\n",
       "      <td>2581.498647</td>\n",
       "      <td>-140.498647</td>\n",
       "    </tr>\n",
       "    <tr>\n",
       "      <th>500</th>\n",
       "      <td>2442.0</td>\n",
       "      <td>2582.498647</td>\n",
       "      <td>-140.498647</td>\n",
       "    </tr>\n",
       "    <tr>\n",
       "      <th>501</th>\n",
       "      <td>2443.0</td>\n",
       "      <td>2583.498647</td>\n",
       "      <td>-140.498647</td>\n",
       "    </tr>\n",
       "    <tr>\n",
       "      <th>502</th>\n",
       "      <td>2444.0</td>\n",
       "      <td>2584.498647</td>\n",
       "      <td>-140.498647</td>\n",
       "    </tr>\n",
       "    <tr>\n",
       "      <th>503</th>\n",
       "      <td>2445.0</td>\n",
       "      <td>2585.498647</td>\n",
       "      <td>-140.498647</td>\n",
       "    </tr>\n",
       "    <tr>\n",
       "      <th>504</th>\n",
       "      <td>2446.0</td>\n",
       "      <td>2586.498647</td>\n",
       "      <td>-140.498647</td>\n",
       "    </tr>\n",
       "  </tbody>\n",
       "</table>\n",
       "</div>"
      ],
      "text/plain": [
       "     Cena kakao   cena opcji  zysk/strata\n",
       "495      2437.0  2577.498647  -140.498647\n",
       "496      2438.0  2578.498647  -140.498647\n",
       "497      2439.0  2579.498647  -140.498647\n",
       "498      2440.0  2580.498647  -140.498647\n",
       "499      2441.0  2581.498647  -140.498647\n",
       "500      2442.0  2582.498647  -140.498647\n",
       "501      2443.0  2583.498647  -140.498647\n",
       "502      2444.0  2584.498647  -140.498647\n",
       "503      2445.0  2585.498647  -140.498647\n",
       "504      2446.0  2586.498647  -140.498647"
      ]
     },
     "execution_count": 33,
     "metadata": {},
     "output_type": "execute_result"
    }
   ],
   "source": [
    "porownanie.iloc[495:505]"
   ]
  },
  {
   "cell_type": "code",
   "execution_count": 34,
   "metadata": {},
   "outputs": [
    {
     "data": {
      "text/html": [
       "<div>\n",
       "<style scoped>\n",
       "    .dataframe tbody tr th:only-of-type {\n",
       "        vertical-align: middle;\n",
       "    }\n",
       "\n",
       "    .dataframe tbody tr th {\n",
       "        vertical-align: top;\n",
       "    }\n",
       "\n",
       "    .dataframe thead th {\n",
       "        text-align: right;\n",
       "    }\n",
       "</style>\n",
       "<table border=\"1\" class=\"dataframe\">\n",
       "  <thead>\n",
       "    <tr style=\"text-align: right;\">\n",
       "      <th></th>\n",
       "      <th>Cena kakao</th>\n",
       "      <th>cena opcji</th>\n",
       "      <th>zysk/strata</th>\n",
       "      <th>zysk/strata w procencie</th>\n",
       "    </tr>\n",
       "  </thead>\n",
       "  <tbody>\n",
       "    <tr>\n",
       "      <th>0</th>\n",
       "      <td>1942.0</td>\n",
       "      <td>2082.498647</td>\n",
       "      <td>-140.498647</td>\n",
       "      <td>-0.072347</td>\n",
       "    </tr>\n",
       "    <tr>\n",
       "      <th>1</th>\n",
       "      <td>1943.0</td>\n",
       "      <td>2083.498647</td>\n",
       "      <td>-140.498647</td>\n",
       "      <td>-0.072310</td>\n",
       "    </tr>\n",
       "    <tr>\n",
       "      <th>2</th>\n",
       "      <td>1944.0</td>\n",
       "      <td>2084.498647</td>\n",
       "      <td>-140.498647</td>\n",
       "      <td>-0.072273</td>\n",
       "    </tr>\n",
       "    <tr>\n",
       "      <th>3</th>\n",
       "      <td>1945.0</td>\n",
       "      <td>2085.498647</td>\n",
       "      <td>-140.498647</td>\n",
       "      <td>-0.072236</td>\n",
       "    </tr>\n",
       "    <tr>\n",
       "      <th>4</th>\n",
       "      <td>1946.0</td>\n",
       "      <td>2086.498647</td>\n",
       "      <td>-140.498647</td>\n",
       "      <td>-0.072199</td>\n",
       "    </tr>\n",
       "    <tr>\n",
       "      <th>...</th>\n",
       "      <td>...</td>\n",
       "      <td>...</td>\n",
       "      <td>...</td>\n",
       "      <td>...</td>\n",
       "    </tr>\n",
       "    <tr>\n",
       "      <th>995</th>\n",
       "      <td>2937.0</td>\n",
       "      <td>2582.498647</td>\n",
       "      <td>354.501353</td>\n",
       "      <td>0.120702</td>\n",
       "    </tr>\n",
       "    <tr>\n",
       "      <th>996</th>\n",
       "      <td>2938.0</td>\n",
       "      <td>2582.498647</td>\n",
       "      <td>355.501353</td>\n",
       "      <td>0.121001</td>\n",
       "    </tr>\n",
       "    <tr>\n",
       "      <th>997</th>\n",
       "      <td>2939.0</td>\n",
       "      <td>2582.498647</td>\n",
       "      <td>356.501353</td>\n",
       "      <td>0.121300</td>\n",
       "    </tr>\n",
       "    <tr>\n",
       "      <th>998</th>\n",
       "      <td>2940.0</td>\n",
       "      <td>2582.498647</td>\n",
       "      <td>357.501353</td>\n",
       "      <td>0.121599</td>\n",
       "    </tr>\n",
       "    <tr>\n",
       "      <th>999</th>\n",
       "      <td>2941.0</td>\n",
       "      <td>2582.498647</td>\n",
       "      <td>358.501353</td>\n",
       "      <td>0.121898</td>\n",
       "    </tr>\n",
       "  </tbody>\n",
       "</table>\n",
       "<p>1000 rows × 4 columns</p>\n",
       "</div>"
      ],
      "text/plain": [
       "     Cena kakao   cena opcji  zysk/strata  zysk/strata w procencie\n",
       "0        1942.0  2082.498647  -140.498647                -0.072347\n",
       "1        1943.0  2083.498647  -140.498647                -0.072310\n",
       "2        1944.0  2084.498647  -140.498647                -0.072273\n",
       "3        1945.0  2085.498647  -140.498647                -0.072236\n",
       "4        1946.0  2086.498647  -140.498647                -0.072199\n",
       "..          ...          ...          ...                      ...\n",
       "995      2937.0  2582.498647   354.501353                 0.120702\n",
       "996      2938.0  2582.498647   355.501353                 0.121001\n",
       "997      2939.0  2582.498647   356.501353                 0.121300\n",
       "998      2940.0  2582.498647   357.501353                 0.121599\n",
       "999      2941.0  2582.498647   358.501353                 0.121898\n",
       "\n",
       "[1000 rows x 4 columns]"
      ]
     },
     "execution_count": 34,
     "metadata": {},
     "output_type": "execute_result"
    }
   ],
   "source": [
    "porownanie[\"zysk/strata w procencie\"] = porownanie[\"zysk/strata\"]/porownanie[\"Cena kakao\"]#nie wiem czy tak trzeba\n",
    "porownanie"
   ]
  },
  {
   "cell_type": "markdown",
   "metadata": {},
   "source": [
    "## Obliczanie wartości zagrożonej"
   ]
  },
  {
   "cell_type": "markdown",
   "metadata": {},
   "source": [
    "### Meoda historyczna zwykła"
   ]
  },
  {
   "cell_type": "code",
   "execution_count": 44,
   "metadata": {},
   "outputs": [
    {
     "data": {
      "text/plain": [
       "0.07053322048336692"
      ]
     },
     "execution_count": 44,
     "metadata": {},
     "output_type": "execute_result"
    }
   ],
   "source": [
    "np.quantile(-porownanie[\"zysk/strata w procencie\"], 0.95)"
   ]
  },
  {
   "cell_type": "code",
   "execution_count": 45,
   "metadata": {},
   "outputs": [
    {
     "data": {
      "text/plain": [
       "0.07197713473141867"
      ]
     },
     "execution_count": 45,
     "metadata": {},
     "output_type": "execute_result"
    }
   ],
   "source": [
    "np.quantile(-porownanie[\"zysk/strata w procencie\"], 0.99)"
   ]
  },
  {
   "cell_type": "code",
   "execution_count": 41,
   "metadata": {},
   "outputs": [
    {
     "data": {
      "text/plain": [
       "-0.07053322048336692"
      ]
     },
     "execution_count": 41,
     "metadata": {},
     "output_type": "execute_result"
    }
   ],
   "source": [
    "np.quantile(porownanie[\"zysk/strata w procencie\"], 0.05)"
   ]
  },
  {
   "cell_type": "code",
   "execution_count": 42,
   "metadata": {},
   "outputs": [
    {
     "data": {
      "text/plain": [
       "-0.07197713473141867"
      ]
     },
     "execution_count": 42,
     "metadata": {},
     "output_type": "execute_result"
    }
   ],
   "source": [
    "np.quantile(porownanie[\"zysk/strata w procencie\"], 0.01)"
   ]
  },
  {
   "cell_type": "code",
   "execution_count": null,
   "metadata": {},
   "outputs": [],
   "source": []
  }
 ],
 "metadata": {
  "kernelspec": {
   "display_name": "Python 3",
   "language": "python",
   "name": "python3"
  },
  "language_info": {
   "codemirror_mode": {
    "name": "ipython",
    "version": 3
   },
   "file_extension": ".py",
   "mimetype": "text/x-python",
   "name": "python",
   "nbconvert_exporter": "python",
   "pygments_lexer": "ipython3",
   "version": "3.7.5"
  },
  "vscode": {
   "interpreter": {
    "hash": "09824589ad9c0fa880d8b870405273d9f1265c57a2c62e5a6b0da4409e11fd8e"
   }
  }
 },
 "nbformat": 4,
 "nbformat_minor": 4
}
