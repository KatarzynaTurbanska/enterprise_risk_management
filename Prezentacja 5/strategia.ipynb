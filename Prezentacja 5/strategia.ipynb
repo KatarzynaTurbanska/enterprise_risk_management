{
 "cells": [
  {
   "cell_type": "markdown",
   "metadata": {},
   "source": [
    "## Strategia"
   ]
  },
  {
   "cell_type": "code",
   "execution_count": 1,
   "metadata": {},
   "outputs": [],
   "source": [
    "from math import log, sqrt, pi, exp\n",
    "from scipy.stats import norm\n",
    "import numpy as np\n",
    "import pandas as pd\n",
    "\n",
    "\n",
    "#wyceniam opcje za pomoca Black Scholesa\n",
    "def d1(S,K,T,r,sigma):\n",
    "    return(log(S/K)+(r+sigma**2/2.)*T)/(sigma*sqrt(T))\n",
    "def d2(S,K,T,r,sigma):\n",
    "    return d1(S,K,T,r,sigma)-sigma*sqrt(T)"
   ]
  },
  {
   "cell_type": "code",
   "execution_count": 2,
   "metadata": {},
   "outputs": [],
   "source": [
    "def bs_call(S,K,T,r,sigma):\n",
    "    return S*norm.cdf(d1(S,K,T,r,sigma))-K*exp(-r*T)*norm.cdf(d2(S,K,T,r,sigma))\n",
    "  \n",
    "def bs_put(S,K,T,r,sigma):\n",
    "    return K*exp(-r*T)-S*bs_call(S,K,T,r,sigma)"
   ]
  },
  {
   "cell_type": "code",
   "execution_count": 3,
   "metadata": {},
   "outputs": [],
   "source": [
    "df = pd.read_csv(\"cocoa.csv\")\n",
    "df.dropna()\n",
    "df = df.assign(close_day_before=df.Close.shift(1))\n",
    "df['returns'] = ((df.Close - df.close_day_before)/df.close_day_before)"
   ]
  },
  {
   "cell_type": "code",
   "execution_count": 4,
   "metadata": {},
   "outputs": [],
   "source": [
    "sigma = np.sqrt(252) * df['returns'].std() "
   ]
  },
  {
   "cell_type": "code",
   "execution_count": 5,
   "metadata": {},
   "outputs": [],
   "source": [
    "lcp = df['Close'].iloc[-1] #ostatnia cena, \n",
    "t = 90/365 #data wygasniecia , 3 m-ce\n",
    "strike_price = 2400\n",
    "r = 0.06 #r wolna od ryzyka"
   ]
  },
  {
   "cell_type": "code",
   "execution_count": 6,
   "metadata": {},
   "outputs": [
    {
     "data": {
      "text/plain": [
       "162.85687550812054"
      ]
     },
     "execution_count": 6,
     "metadata": {},
     "output_type": "execute_result"
    }
   ],
   "source": [
    "prem = bs_call(lcp, strike_price, t, 0.05, sigma) #robimy long calla (chyba)\n",
    "prem"
   ]
  },
  {
   "cell_type": "code",
   "execution_count": 7,
   "metadata": {},
   "outputs": [
    {
     "data": {
      "text/plain": [
       "2562.8568755081205"
      ]
     },
     "execution_count": 7,
     "metadata": {},
     "output_type": "execute_result"
    }
   ],
   "source": [
    "cena_o = prem + strike_price\n",
    "cena_o"
   ]
  },
  {
   "cell_type": "code",
   "execution_count": 8,
   "metadata": {},
   "outputs": [],
   "source": [
    "ceny = np.arange(-500,500,1) + lcp #hipotetyczne ceny, zmiennosc co 1 dolar\n",
    "#ceny"
   ]
  },
  {
   "cell_type": "code",
   "execution_count": 9,
   "metadata": {},
   "outputs": [],
   "source": [
    "cena_opcji = []\n",
    "for i in ceny:\n",
    "    if i >= cena_o:\n",
    "        cena_opcji.append(cena_o)\n",
    "    else:\n",
    "        cena_opcji.append(i+prem)"
   ]
  },
  {
   "cell_type": "code",
   "execution_count": 10,
   "metadata": {},
   "outputs": [
    {
     "data": {
      "text/plain": [
       "[2104.8568755081205,\n",
       " 2105.8568755081205,\n",
       " 2106.8568755081205,\n",
       " 2107.8568755081205,\n",
       " 2108.8568755081205,\n",
       " 2109.8568755081205,\n",
       " 2110.8568755081205,\n",
       " 2111.8568755081205,\n",
       " 2112.8568755081205,\n",
       " 2113.8568755081205]"
      ]
     },
     "execution_count": 10,
     "metadata": {},
     "output_type": "execute_result"
    }
   ],
   "source": [
    "cena_opcji[:10]"
   ]
  },
  {
   "cell_type": "code",
   "execution_count": 11,
   "metadata": {},
   "outputs": [
    {
     "data": {
      "text/html": [
       "<div>\n",
       "<style scoped>\n",
       "    .dataframe tbody tr th:only-of-type {\n",
       "        vertical-align: middle;\n",
       "    }\n",
       "\n",
       "    .dataframe tbody tr th {\n",
       "        vertical-align: top;\n",
       "    }\n",
       "\n",
       "    .dataframe thead th {\n",
       "        text-align: right;\n",
       "    }\n",
       "</style>\n",
       "<table border=\"1\" class=\"dataframe\">\n",
       "  <thead>\n",
       "    <tr style=\"text-align: right;\">\n",
       "      <th></th>\n",
       "      <th>Cena kakao</th>\n",
       "      <th>cena opcji</th>\n",
       "    </tr>\n",
       "  </thead>\n",
       "  <tbody>\n",
       "    <tr>\n",
       "      <th>495</th>\n",
       "      <td>2437.0</td>\n",
       "      <td>2599.856876</td>\n",
       "    </tr>\n",
       "    <tr>\n",
       "      <th>496</th>\n",
       "      <td>2438.0</td>\n",
       "      <td>2600.856876</td>\n",
       "    </tr>\n",
       "    <tr>\n",
       "      <th>497</th>\n",
       "      <td>2439.0</td>\n",
       "      <td>2601.856876</td>\n",
       "    </tr>\n",
       "    <tr>\n",
       "      <th>498</th>\n",
       "      <td>2440.0</td>\n",
       "      <td>2602.856876</td>\n",
       "    </tr>\n",
       "    <tr>\n",
       "      <th>499</th>\n",
       "      <td>2441.0</td>\n",
       "      <td>2603.856876</td>\n",
       "    </tr>\n",
       "    <tr>\n",
       "      <th>500</th>\n",
       "      <td>2442.0</td>\n",
       "      <td>2604.856876</td>\n",
       "    </tr>\n",
       "    <tr>\n",
       "      <th>501</th>\n",
       "      <td>2443.0</td>\n",
       "      <td>2605.856876</td>\n",
       "    </tr>\n",
       "    <tr>\n",
       "      <th>502</th>\n",
       "      <td>2444.0</td>\n",
       "      <td>2606.856876</td>\n",
       "    </tr>\n",
       "    <tr>\n",
       "      <th>503</th>\n",
       "      <td>2445.0</td>\n",
       "      <td>2607.856876</td>\n",
       "    </tr>\n",
       "    <tr>\n",
       "      <th>504</th>\n",
       "      <td>2446.0</td>\n",
       "      <td>2608.856876</td>\n",
       "    </tr>\n",
       "  </tbody>\n",
       "</table>\n",
       "</div>"
      ],
      "text/plain": [
       "     Cena kakao   cena opcji\n",
       "495      2437.0  2599.856876\n",
       "496      2438.0  2600.856876\n",
       "497      2439.0  2601.856876\n",
       "498      2440.0  2602.856876\n",
       "499      2441.0  2603.856876\n",
       "500      2442.0  2604.856876\n",
       "501      2443.0  2605.856876\n",
       "502      2444.0  2606.856876\n",
       "503      2445.0  2607.856876\n",
       "504      2446.0  2608.856876"
      ]
     },
     "execution_count": 11,
     "metadata": {},
     "output_type": "execute_result"
    }
   ],
   "source": [
    "d = {'Cena kakao':ceny,'cena opcji':cena_opcji}\n",
    "porownanie = pd.DataFrame(d)\n",
    "porownanie.iloc[495:505]"
   ]
  },
  {
   "cell_type": "code",
   "execution_count": 12,
   "metadata": {},
   "outputs": [],
   "source": [
    "porownanie[\"zysk/strata\"] = porownanie[\"Cena kakao\"]-porownanie[\"cena opcji\"]"
   ]
  },
  {
   "cell_type": "code",
   "execution_count": 17,
   "metadata": {},
   "outputs": [
    {
     "data": {
      "text/html": [
       "<div>\n",
       "<style scoped>\n",
       "    .dataframe tbody tr th:only-of-type {\n",
       "        vertical-align: middle;\n",
       "    }\n",
       "\n",
       "    .dataframe tbody tr th {\n",
       "        vertical-align: top;\n",
       "    }\n",
       "\n",
       "    .dataframe thead th {\n",
       "        text-align: right;\n",
       "    }\n",
       "</style>\n",
       "<table border=\"1\" class=\"dataframe\">\n",
       "  <thead>\n",
       "    <tr style=\"text-align: right;\">\n",
       "      <th></th>\n",
       "      <th>Cena kakao</th>\n",
       "      <th>cena opcji</th>\n",
       "      <th>zysk/strata</th>\n",
       "      <th>zysk/strata w procencie</th>\n",
       "    </tr>\n",
       "  </thead>\n",
       "  <tbody>\n",
       "    <tr>\n",
       "      <th>495</th>\n",
       "      <td>2437.0</td>\n",
       "      <td>2599.856876</td>\n",
       "      <td>-162.856876</td>\n",
       "      <td>-0.066827</td>\n",
       "    </tr>\n",
       "    <tr>\n",
       "      <th>496</th>\n",
       "      <td>2438.0</td>\n",
       "      <td>2600.856876</td>\n",
       "      <td>-162.856876</td>\n",
       "      <td>-0.066799</td>\n",
       "    </tr>\n",
       "    <tr>\n",
       "      <th>497</th>\n",
       "      <td>2439.0</td>\n",
       "      <td>2601.856876</td>\n",
       "      <td>-162.856876</td>\n",
       "      <td>-0.066772</td>\n",
       "    </tr>\n",
       "    <tr>\n",
       "      <th>498</th>\n",
       "      <td>2440.0</td>\n",
       "      <td>2602.856876</td>\n",
       "      <td>-162.856876</td>\n",
       "      <td>-0.066745</td>\n",
       "    </tr>\n",
       "    <tr>\n",
       "      <th>499</th>\n",
       "      <td>2441.0</td>\n",
       "      <td>2603.856876</td>\n",
       "      <td>-162.856876</td>\n",
       "      <td>-0.066717</td>\n",
       "    </tr>\n",
       "    <tr>\n",
       "      <th>500</th>\n",
       "      <td>2442.0</td>\n",
       "      <td>2604.856876</td>\n",
       "      <td>-162.856876</td>\n",
       "      <td>-0.066690</td>\n",
       "    </tr>\n",
       "    <tr>\n",
       "      <th>501</th>\n",
       "      <td>2443.0</td>\n",
       "      <td>2605.856876</td>\n",
       "      <td>-162.856876</td>\n",
       "      <td>-0.066663</td>\n",
       "    </tr>\n",
       "    <tr>\n",
       "      <th>502</th>\n",
       "      <td>2444.0</td>\n",
       "      <td>2606.856876</td>\n",
       "      <td>-162.856876</td>\n",
       "      <td>-0.066635</td>\n",
       "    </tr>\n",
       "    <tr>\n",
       "      <th>503</th>\n",
       "      <td>2445.0</td>\n",
       "      <td>2607.856876</td>\n",
       "      <td>-162.856876</td>\n",
       "      <td>-0.066608</td>\n",
       "    </tr>\n",
       "    <tr>\n",
       "      <th>504</th>\n",
       "      <td>2446.0</td>\n",
       "      <td>2608.856876</td>\n",
       "      <td>-162.856876</td>\n",
       "      <td>-0.066581</td>\n",
       "    </tr>\n",
       "  </tbody>\n",
       "</table>\n",
       "</div>"
      ],
      "text/plain": [
       "     Cena kakao   cena opcji  zysk/strata  zysk/strata w procencie\n",
       "495      2437.0  2599.856876  -162.856876                -0.066827\n",
       "496      2438.0  2600.856876  -162.856876                -0.066799\n",
       "497      2439.0  2601.856876  -162.856876                -0.066772\n",
       "498      2440.0  2602.856876  -162.856876                -0.066745\n",
       "499      2441.0  2603.856876  -162.856876                -0.066717\n",
       "500      2442.0  2604.856876  -162.856876                -0.066690\n",
       "501      2443.0  2605.856876  -162.856876                -0.066663\n",
       "502      2444.0  2606.856876  -162.856876                -0.066635\n",
       "503      2445.0  2607.856876  -162.856876                -0.066608\n",
       "504      2446.0  2608.856876  -162.856876                -0.066581"
      ]
     },
     "execution_count": 17,
     "metadata": {},
     "output_type": "execute_result"
    }
   ],
   "source": [
    "porownanie.iloc[495:505]"
   ]
  },
  {
   "cell_type": "code",
   "execution_count": 14,
   "metadata": {},
   "outputs": [
    {
     "data": {
      "text/html": [
       "<div>\n",
       "<style scoped>\n",
       "    .dataframe tbody tr th:only-of-type {\n",
       "        vertical-align: middle;\n",
       "    }\n",
       "\n",
       "    .dataframe tbody tr th {\n",
       "        vertical-align: top;\n",
       "    }\n",
       "\n",
       "    .dataframe thead th {\n",
       "        text-align: right;\n",
       "    }\n",
       "</style>\n",
       "<table border=\"1\" class=\"dataframe\">\n",
       "  <thead>\n",
       "    <tr style=\"text-align: right;\">\n",
       "      <th></th>\n",
       "      <th>Cena kakao</th>\n",
       "      <th>cena opcji</th>\n",
       "      <th>zysk/strata</th>\n",
       "      <th>zysk/strata w procencie</th>\n",
       "    </tr>\n",
       "  </thead>\n",
       "  <tbody>\n",
       "    <tr>\n",
       "      <th>0</th>\n",
       "      <td>1942.0</td>\n",
       "      <td>2104.856876</td>\n",
       "      <td>-162.856876</td>\n",
       "      <td>-0.083860</td>\n",
       "    </tr>\n",
       "    <tr>\n",
       "      <th>1</th>\n",
       "      <td>1943.0</td>\n",
       "      <td>2105.856876</td>\n",
       "      <td>-162.856876</td>\n",
       "      <td>-0.083817</td>\n",
       "    </tr>\n",
       "    <tr>\n",
       "      <th>2</th>\n",
       "      <td>1944.0</td>\n",
       "      <td>2106.856876</td>\n",
       "      <td>-162.856876</td>\n",
       "      <td>-0.083774</td>\n",
       "    </tr>\n",
       "    <tr>\n",
       "      <th>3</th>\n",
       "      <td>1945.0</td>\n",
       "      <td>2107.856876</td>\n",
       "      <td>-162.856876</td>\n",
       "      <td>-0.083731</td>\n",
       "    </tr>\n",
       "    <tr>\n",
       "      <th>4</th>\n",
       "      <td>1946.0</td>\n",
       "      <td>2108.856876</td>\n",
       "      <td>-162.856876</td>\n",
       "      <td>-0.083688</td>\n",
       "    </tr>\n",
       "    <tr>\n",
       "      <th>...</th>\n",
       "      <td>...</td>\n",
       "      <td>...</td>\n",
       "      <td>...</td>\n",
       "      <td>...</td>\n",
       "    </tr>\n",
       "    <tr>\n",
       "      <th>995</th>\n",
       "      <td>2937.0</td>\n",
       "      <td>2562.856876</td>\n",
       "      <td>374.143124</td>\n",
       "      <td>0.127390</td>\n",
       "    </tr>\n",
       "    <tr>\n",
       "      <th>996</th>\n",
       "      <td>2938.0</td>\n",
       "      <td>2562.856876</td>\n",
       "      <td>375.143124</td>\n",
       "      <td>0.127687</td>\n",
       "    </tr>\n",
       "    <tr>\n",
       "      <th>997</th>\n",
       "      <td>2939.0</td>\n",
       "      <td>2562.856876</td>\n",
       "      <td>376.143124</td>\n",
       "      <td>0.127983</td>\n",
       "    </tr>\n",
       "    <tr>\n",
       "      <th>998</th>\n",
       "      <td>2940.0</td>\n",
       "      <td>2562.856876</td>\n",
       "      <td>377.143124</td>\n",
       "      <td>0.128280</td>\n",
       "    </tr>\n",
       "    <tr>\n",
       "      <th>999</th>\n",
       "      <td>2941.0</td>\n",
       "      <td>2562.856876</td>\n",
       "      <td>378.143124</td>\n",
       "      <td>0.128576</td>\n",
       "    </tr>\n",
       "  </tbody>\n",
       "</table>\n",
       "<p>1000 rows × 4 columns</p>\n",
       "</div>"
      ],
      "text/plain": [
       "     Cena kakao   cena opcji  zysk/strata  zysk/strata w procencie\n",
       "0        1942.0  2104.856876  -162.856876                -0.083860\n",
       "1        1943.0  2105.856876  -162.856876                -0.083817\n",
       "2        1944.0  2106.856876  -162.856876                -0.083774\n",
       "3        1945.0  2107.856876  -162.856876                -0.083731\n",
       "4        1946.0  2108.856876  -162.856876                -0.083688\n",
       "..          ...          ...          ...                      ...\n",
       "995      2937.0  2562.856876   374.143124                 0.127390\n",
       "996      2938.0  2562.856876   375.143124                 0.127687\n",
       "997      2939.0  2562.856876   376.143124                 0.127983\n",
       "998      2940.0  2562.856876   377.143124                 0.128280\n",
       "999      2941.0  2562.856876   378.143124                 0.128576\n",
       "\n",
       "[1000 rows x 4 columns]"
      ]
     },
     "execution_count": 14,
     "metadata": {},
     "output_type": "execute_result"
    }
   ],
   "source": [
    "porownanie[\"zysk/strata w procencie\"] = porownanie[\"zysk/strata\"]/porownanie[\"Cena kakao\"]#nie wiem czy tak trzeba\n",
    "porownanie"
   ]
  },
  {
   "cell_type": "markdown",
   "metadata": {},
   "source": [
    "## Obliczanie wartości zagrożonej"
   ]
  },
  {
   "cell_type": "markdown",
   "metadata": {},
   "source": [
    "### Meoda historyczna zwykła"
   ]
  },
  {
   "cell_type": "code",
   "execution_count": 19,
   "metadata": {},
   "outputs": [
    {
     "data": {
      "text/plain": [
       "0.11352038530344935"
      ]
     },
     "execution_count": 19,
     "metadata": {},
     "output_type": "execute_result"
    }
   ],
   "source": [
    "np.quantile(porownanie[\"zysk/strata w procencie\"], 0.95)"
   ]
  },
  {
   "cell_type": "code",
   "execution_count": 20,
   "metadata": {},
   "outputs": [
    {
     "data": {
      "text/plain": [
       "0.12560623182433647"
      ]
     },
     "execution_count": 20,
     "metadata": {},
     "output_type": "execute_result"
    }
   ],
   "source": [
    "np.quantile(porownanie[\"zysk/strata w procencie\"], 0.99)"
   ]
  },
  {
   "cell_type": "code",
   "execution_count": null,
   "metadata": {},
   "outputs": [],
   "source": []
  }
 ],
 "metadata": {
  "kernelspec": {
   "display_name": "Python 3",
   "language": "python",
   "name": "python3"
  },
  "language_info": {
   "codemirror_mode": {
    "name": "ipython",
    "version": 3
   },
   "file_extension": ".py",
   "mimetype": "text/x-python",
   "name": "python",
   "nbconvert_exporter": "python",
   "pygments_lexer": "ipython3",
   "version": "3.7.5"
  },
  "vscode": {
   "interpreter": {
    "hash": "09824589ad9c0fa880d8b870405273d9f1265c57a2c62e5a6b0da4409e11fd8e"
   }
  }
 },
 "nbformat": 4,
 "nbformat_minor": 4
}
