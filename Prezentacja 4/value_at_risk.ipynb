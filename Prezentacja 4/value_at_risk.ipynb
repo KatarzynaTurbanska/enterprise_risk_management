{
 "cells": [
  {
   "cell_type": "code",
   "execution_count": 1,
   "metadata": {},
   "outputs": [],
   "source": [
    "import numpy as np\n",
    "import matplotlib.pyplot as plt\n",
    "import pandas as pd\n",
    "import seaborn as sns\n",
    "import statsmodels.api as sm\n",
    "from scipy.stats import kstest, jarque_bera, shapiro, ttest_1samp, chi2\n",
    "from statsmodels.stats.diagnostic import acorr_ljungbox,het_arch, het_white\n",
    "from statsmodels.graphics.tsaplots import plot_acf\n",
    "from scipy.stats import genextreme as gev\n",
    "import scipy.stats as stats\n",
    "from statsmodels.distributions.empirical_distribution import ECDF\n",
    "from arch import arch_model\n",
    "\n",
    "import warnings\n",
    "warnings.filterwarnings(\"ignore\")\n",
    "\n",
    "plt.rcParams[\"figure.figsize\"] = (12,7)\n",
    "plt.rcParams['axes.grid'] = True\n",
    "plt.rcParams['grid.linestyle'] = \"--\"\n",
    "plt.rcParams['savefig.facecolor']='white'"
   ]
  },
  {
   "cell_type": "code",
   "execution_count": 2,
   "metadata": {},
   "outputs": [],
   "source": [
    "def normality(data):\n",
    "    mu = np.mean(data)\n",
    "    sigma = np.std(data)\n",
    "\n",
    "    print(\"Test Kołmogorowa-Smirnowa: {}.\".format(kstest((data-mu)/sigma, 'norm').pvalue))\n",
    "    print(\"Test Jarque-Bera: {}.\".format(jarque_bera(data).pvalue))\n",
    "    print(\"Test Shapiro-Wilka: {}.\".format(shapiro(data).pvalue))\n",
    "\n",
    "    fig, axes = plt.subplots(1, 3, figsize=(20,6))\n",
    "\n",
    "    x = np.arange(min(data), max(data)+1)\n",
    "    axes[0].hist(data, bins=20, color='deeppink', alpha=0.6, density=True, label=\"Histogram prawdopodobieństwa danych\")\n",
    "    axes[0].plot(x, stats.norm.pdf(x, mu, sigma), color='indigo', label=\"Gęstość teoretyczna\")\n",
    "    axes[0].set_title('Porównanie gęstości')\n",
    "    axes[0].legend(loc=\"best\")\n",
    "\n",
    "    ecdf = ECDF(data)\n",
    "    axes[1].set_title('Porównanie dystrybuant')\n",
    "    axes[1].plot(x, ecdf(x), color='deeppink', label='Dystrybuanta empiryczna')\n",
    "    axes[1].plot(x, stats.norm.cdf(x, mu, sigma), color=\"indigo\", linestyle='--', label=\"Dystrybuanta teoretyczna\")\n",
    "    axes[1].legend(loc=\"best\")\n",
    "\n",
    "    bplot = axes[2].boxplot(data, patch_artist=True, medianprops=dict(color=\"deeppink\"))\n",
    "    bplot['boxes'][0].set_facecolor('white')\n",
    "    axes[2].grid(False)\n",
    "    axes[2].set_title(\"Boxplot danych\")\n",
    "\n",
    "    plt.show()"
   ]
  },
  {
   "cell_type": "markdown",
   "metadata": {},
   "source": [
    "# 1. Przygotowanie danych"
   ]
  },
  {
   "cell_type": "code",
   "execution_count": 3,
   "metadata": {},
   "outputs": [],
   "source": [
    "cocoa = pd.read_csv('Cocoa.csv')\n",
    "milk = pd.read_csv('Milk.csv')\n",
    "sugar = pd.read_csv('Sugar.csv')"
   ]
  },
  {
   "cell_type": "code",
   "execution_count": 4,
   "metadata": {},
   "outputs": [],
   "source": [
    "cocoa['Date'] = pd.to_datetime(cocoa['Date'])\n",
    "milk['Date'] = pd.to_datetime(milk['Date'])\n",
    "sugar['Date'] = pd.to_datetime(sugar['Date'])"
   ]
  },
  {
   "cell_type": "code",
   "execution_count": 5,
   "metadata": {},
   "outputs": [],
   "source": [
    "cocoa['Close/Last'] = cocoa['Close/Last'].astype(float)\n",
    "milk['Close/Last'] = milk['Close/Last'].astype(float)\n",
    "sugar['Close/Last'] = sugar['Close/Last'].astype(float)"
   ]
  },
  {
   "cell_type": "code",
   "execution_count": 6,
   "metadata": {},
   "outputs": [],
   "source": [
    "pln_usd = pd.read_csv(\"PLNUSD=X.csv\")"
   ]
  },
  {
   "cell_type": "code",
   "execution_count": 7,
   "metadata": {},
   "outputs": [],
   "source": [
    "pln_usd = pln_usd[pln_usd[\"Close\"].notnull()]"
   ]
  },
  {
   "cell_type": "code",
   "execution_count": 8,
   "metadata": {},
   "outputs": [],
   "source": [
    "pln_usd.reset_index(inplace=True)"
   ]
  },
  {
   "cell_type": "code",
   "execution_count": 9,
   "metadata": {},
   "outputs": [],
   "source": [
    "pln_usd[\"Date\"] = pd.to_datetime(pln_usd[\"Date\"])"
   ]
  },
  {
   "cell_type": "code",
   "execution_count": 10,
   "metadata": {},
   "outputs": [],
   "source": [
    "dates = []\n",
    "for i in range(len(pln_usd)):\n",
    "    if pln_usd[\"Date\"][i] not in list(cocoa[\"Date\"]):\n",
    "        dates.append(pln_usd[\"Date\"][i])\n",
    "    if pln_usd[\"Date\"][i] not in list(milk[\"Date\"]):\n",
    "        dates.append(pln_usd[\"Date\"][i])\n",
    "    if pln_usd[\"Date\"][i] not in list(sugar[\"Date\"]):\n",
    "        dates.append(pln_usd[\"Date\"][i])"
   ]
  },
  {
   "cell_type": "code",
   "execution_count": 11,
   "metadata": {},
   "outputs": [],
   "source": [
    "for i in range(len(cocoa)):\n",
    "    if cocoa[\"Date\"][i] not in list(pln_usd[\"Date\"]):\n",
    "        dates.append(cocoa[\"Date\"][i])\n",
    "    if sugar[\"Date\"][i] not in list(pln_usd[\"Date\"]):\n",
    "        dates.append(sugar[\"Date\"][i])"
   ]
  },
  {
   "cell_type": "code",
   "execution_count": 12,
   "metadata": {},
   "outputs": [],
   "source": [
    "for i in range(len(milk)):\n",
    "    if milk[\"Date\"][i] not in list(pln_usd[\"Date\"]):\n",
    "        dates.append(milk[\"Date\"][i])"
   ]
  },
  {
   "cell_type": "code",
   "execution_count": 13,
   "metadata": {},
   "outputs": [],
   "source": [
    "dates = list(set(dates))"
   ]
  },
  {
   "cell_type": "code",
   "execution_count": 14,
   "metadata": {},
   "outputs": [],
   "source": [
    "for i in range(len(dates)):\n",
    "    pln_usd = pln_usd[pln_usd[\"Date\"] !=  dates[i]]\n",
    "    cocoa = cocoa[cocoa[\"Date\"] !=  dates[i]]\n",
    "    milk = milk[milk[\"Date\"] !=  dates[i]]\n",
    "    sugar = sugar[sugar[\"Date\"] !=  dates[i]]"
   ]
  },
  {
   "cell_type": "code",
   "execution_count": 15,
   "metadata": {},
   "outputs": [],
   "source": [
    "pln_usd = pln_usd[::-1]"
   ]
  },
  {
   "cell_type": "code",
   "execution_count": 16,
   "metadata": {},
   "outputs": [],
   "source": [
    "pln_usd.reset_index(inplace=True)\n",
    "cocoa.reset_index(inplace=True)\n",
    "milk.reset_index(inplace=True)\n",
    "sugar.reset_index(inplace=True)"
   ]
  },
  {
   "cell_type": "markdown",
   "metadata": {},
   "source": [
    "Zamiana danych na stopy procentowe."
   ]
  },
  {
   "cell_type": "code",
   "execution_count": 17,
   "metadata": {},
   "outputs": [],
   "source": [
    "T = 1/252\n",
    "cocoa_close = np.array([round((cocoa['Close/Last'][i] - cocoa['Close/Last'][i+1])/(cocoa['Close/Last'][i+1] * T),3) for i in range(len(cocoa)-1)])\n",
    "milk_close = np.array([round((milk['Close/Last'][i] - milk['Close/Last'][i+1])/(milk['Close/Last'][i+1] * T), 3) for i in range(len(milk)-1)])\n",
    "sugar_close = np.array([round((sugar['Close/Last'][i] - sugar['Close/Last'][i+1])/(sugar['Close/Last'][i+1] * T), 3) for i in range(len(sugar)-1)])\n",
    "pln_usd_close = np.array([round((pln_usd['Close'][i] - pln_usd['Close'][i+1])/(pln_usd['Close'][i+1] * T), 3) for i in range(len(pln_usd)-1)])"
   ]
  },
  {
   "cell_type": "code",
   "execution_count": 18,
   "metadata": {},
   "outputs": [],
   "source": [
    "cocoa_close /= 100\n",
    "milk_close /= 100\n",
    "sugar_close /= 100\n",
    "pln_usd_close /= 100"
   ]
  },
  {
   "cell_type": "code",
   "execution_count": 19,
   "metadata": {},
   "outputs": [
    {
     "name": "stdout",
     "output_type": "stream",
     "text": [
      "0.0011226437699680513 0.046895540026747284\n",
      "0.0017608067092651758 0.06315052203248535\n",
      "0.0007991214057507985 0.0481337056540928\n"
     ]
    }
   ],
   "source": [
    "mu_c = np.mean(cocoa_close)\n",
    "sigma_c = np.std(cocoa_close)\n",
    "print(mu_c, sigma_c)\n",
    "\n",
    "mu_m = np.mean(milk_close)\n",
    "sigma_m = np.std(milk_close)\n",
    "print(mu_m, sigma_m)\n",
    "\n",
    "mu_s = np.mean(sugar_close)\n",
    "sigma_s = np.std(sugar_close)\n",
    "print(mu_s, sigma_s)"
   ]
  },
  {
   "cell_type": "code",
   "execution_count": 20,
   "metadata": {},
   "outputs": [
    {
     "name": "stdout",
     "output_type": "stream",
     "text": [
      "[[-0.03694 -0.00097  0.0127  ... -0.00941  0.0313   0.04996]\n",
      " [-0.00205  0.0417  -0.02171 ... -0.00497  0.00166  0.     ]\n",
      " [-0.0799   0.03211 -0.01532 ... -0.03277 -0.1246  -0.00931]]\n"
     ]
    }
   ],
   "source": [
    "n = len(cocoa_close)\n",
    "C = cocoa_close.reshape(1,n)\n",
    "M = milk_close.reshape(1,n)\n",
    "S = sugar_close.reshape(1,n)\n",
    "R = np.concatenate([C,M,S],axis=0)\n",
    "print(R)"
   ]
  },
  {
   "cell_type": "markdown",
   "metadata": {},
   "source": [
    "$R_p = 0.4\\cdot R_c + 0.22\\cdot R_s + 0.38\\cdot R_m$"
   ]
  },
  {
   "cell_type": "code",
   "execution_count": 21,
   "metadata": {},
   "outputs": [],
   "source": [
    "Rp = 0.5 * cocoa_close + 0.2 * milk_close + 0.3 * sugar_close"
   ]
  },
  {
   "cell_type": "code",
   "execution_count": 22,
   "metadata": {},
   "outputs": [
    {
     "name": "stdout",
     "output_type": "stream",
     "text": [
      "Stopa zwrotu porfela: 0.0011532196485623003, ryzyko portfela: 0.03151053404357198.\n"
     ]
    }
   ],
   "source": [
    "w = np.array([0.5, 0.2, 0.3])\n",
    "print(\"Stopa zwrotu porfela: {}, ryzyko portfela: {}.\".format(w[0]*mu_c + w[1]*mu_m + w[2]*mu_s, np.sqrt(np.dot(w.T, np.dot(np.cov(R), w)))))"
   ]
  },
  {
   "cell_type": "markdown",
   "metadata": {},
   "source": [
    "# 2. Wartość zagrożna (dla zmiennej kakao)"
   ]
  },
  {
   "cell_type": "markdown",
   "metadata": {},
   "source": [
    "## a) metoda parametryczna"
   ]
  },
  {
   "cell_type": "code",
   "execution_count": 23,
   "metadata": {},
   "outputs": [],
   "source": [
    "L = cocoa_close[cocoa_close > 0] #dodatnie stopy zwrotu są dla nas stratą"
   ]
  },
  {
   "cell_type": "code",
   "execution_count": 24,
   "metadata": {},
   "outputs": [],
   "source": [
    "cocoa_close *= 100"
   ]
  },
  {
   "cell_type": "code",
   "execution_count": 25,
   "metadata": {},
   "outputs": [
    {
     "name": "stdout",
     "output_type": "stream",
     "text": [
      "Test Kołmogorowa-Smirnowa: 0.5032361558324656.\n",
      "Test Jarque-Bera: 0.0.\n",
      "Test Shapiro-Wilka: 2.2554233964910964e-06.\n"
     ]
    },
    {
     "data": {
      "image/png": "[encoded data removed]",
      "text/plain": [
       "<Figure size 1440x432 with 3 Axes>"
      ]
     },
     "metadata": {
      "needs_background": "light"
     },
     "output_type": "display_data"
    }
   ],
   "source": [
    "normality(cocoa_close)"
   ]
  },
  {
   "cell_type": "markdown",
   "metadata": {},
   "source": [
    "Do danych dobieramy odpowiedni rozkład. W naszym przypadku jest to rozkład GEV."
   ]
  },
  {
   "cell_type": "code",
   "execution_count": 26,
   "metadata": {},
   "outputs": [],
   "source": [
    "L *= 100"
   ]
  },
  {
   "cell_type": "code",
   "execution_count": 27,
   "metadata": {},
   "outputs": [],
   "source": [
    "pd.DataFrame(L,columns=['lost']).to_csv('kakao_straty.csv')"
   ]
  },
  {
   "cell_type": "code",
   "execution_count": 28,
   "metadata": {},
   "outputs": [
    {
     "data": {
      "text/plain": [
       "7.825894287081127"
      ]
     },
     "execution_count": 28,
     "metadata": {},
     "output_type": "execute_result"
    }
   ],
   "source": [
    "mu_c = np.mean(cocoa_close)\n",
    "sigma_c = np.std(cocoa_close)\n",
    "stats.norm.ppf(0.95, mu_c, sigma_c)"
   ]
  },
  {
   "cell_type": "code",
   "execution_count": 29,
   "metadata": {},
   "outputs": [
    {
     "data": {
      "text/plain": [
       "11.021798361318876"
      ]
     },
     "execution_count": 29,
     "metadata": {},
     "output_type": "execute_result"
    }
   ],
   "source": [
    "stats.norm.ppf(0.99,mu_c,sigma_c)"
   ]
  },
  {
   "cell_type": "code",
   "execution_count": 30,
   "metadata": {},
   "outputs": [
    {
     "data": {
      "image/png": "[encoded data removed]",
      "text/plain": [
       "<Figure size 864x504 with 1 Axes>"
      ]
     },
     "metadata": {
      "needs_background": "light"
     },
     "output_type": "display_data"
    }
   ],
   "source": [
    "t = np.linspace(0,30,100)\n",
    "plt.hist(L, density=True, bins=\"auto\", label=\"Histogram prawdopodobieństwa danych\", color='deeppink', alpha=0.6)\n",
    "fit = gev.fit(L)\n",
    "pdf = gev.pdf(t, *fit)\n",
    "plt.plot(t, pdf, label=\"Gęstość teoretyczna\", color='indigo')\n",
    "plt.title(\"Porównanie gęstości\", fontsize=20)\n",
    "plt.legend()\n",
    "#plt.savefig(\"gev_dens\")\n",
    "plt.show()"
   ]
  },
  {
   "cell_type": "code",
   "execution_count": 31,
   "metadata": {},
   "outputs": [
    {
     "name": "stdout",
     "output_type": "stream",
     "text": [
      "parametry rozkładu:  (-0.19152298704289422, 2.2761829962389952, 1.9335613214305636)\n"
     ]
    }
   ],
   "source": [
    "print(\"parametry rozkładu: \", fit) #shape, location, scale"
   ]
  },
  {
   "cell_type": "code",
   "execution_count": 32,
   "metadata": {},
   "outputs": [],
   "source": [
    "ksi = fit[0]\n",
    "mu = fit[1]\n",
    "sigma = fit[2]"
   ]
  },
  {
   "cell_type": "markdown",
   "metadata": {},
   "source": [
    "$VaR_{95\\%}$"
   ]
  },
  {
   "cell_type": "code",
   "execution_count": 33,
   "metadata": {},
   "outputs": [
    {
     "data": {
      "text/plain": [
       "6.6560053521224525"
      ]
     },
     "execution_count": 33,
     "metadata": {},
     "output_type": "execute_result"
    }
   ],
   "source": [
    "mu - (sigma/ksi)*(1-(-np.log(0.95))**(-ksi))"
   ]
  },
  {
   "cell_type": "markdown",
   "metadata": {},
   "source": [
    "$VaR_{99\\%}$"
   ]
  },
  {
   "cell_type": "code",
   "execution_count": 34,
   "metadata": {},
   "outputs": [
    {
     "data": {
      "text/plain": [
       "8.18869641807082"
      ]
     },
     "execution_count": 34,
     "metadata": {},
     "output_type": "execute_result"
    }
   ],
   "source": [
    "mu - (sigma/ksi)*(1-(-np.log(0.99))**(-ksi))"
   ]
  },
  {
   "cell_type": "markdown",
   "metadata": {},
   "source": [
    "## b) metoda historyczna"
   ]
  },
  {
   "cell_type": "markdown",
   "metadata": {},
   "source": [
    "### zwykła"
   ]
  },
  {
   "cell_type": "code",
   "execution_count": 35,
   "metadata": {},
   "outputs": [
    {
     "data": {
      "text/plain": [
       "8.951999999999995"
      ]
     },
     "execution_count": 35,
     "metadata": {},
     "output_type": "execute_result"
    }
   ],
   "source": [
    "np.quantile(L, 0.95) #punkt, poniżej którego jest 5% obserwacji"
   ]
  },
  {
   "cell_type": "code",
   "execution_count": 36,
   "metadata": {},
   "outputs": [
    {
     "data": {
      "text/plain": [
       "13.597829999999997"
      ]
     },
     "execution_count": 36,
     "metadata": {},
     "output_type": "execute_result"
    }
   ],
   "source": [
    "np.quantile(L, 0.99)"
   ]
  },
  {
   "cell_type": "markdown",
   "metadata": {},
   "source": [
    "### ważona"
   ]
  },
  {
   "cell_type": "code",
   "execution_count": 37,
   "metadata": {},
   "outputs": [],
   "source": [
    "lamb1 = 0.95\n",
    "lamb2 = 0.99\n",
    "n = len(L)"
   ]
  },
  {
   "cell_type": "code",
   "execution_count": 38,
   "metadata": {},
   "outputs": [],
   "source": [
    "w1 = 1/(1+np.sum([lamb1**(i-1) for i in range(2,n+1)]))"
   ]
  },
  {
   "cell_type": "code",
   "execution_count": 39,
   "metadata": {},
   "outputs": [],
   "source": [
    "weights = [w1*lamb1**(i-1) for i in range(1,n+1)]"
   ]
  },
  {
   "cell_type": "code",
   "execution_count": 40,
   "metadata": {},
   "outputs": [],
   "source": [
    "sorted_L = sorted(list(zip(L, weights)), key=lambda x: x[0])"
   ]
  },
  {
   "cell_type": "code",
   "execution_count": 41,
   "metadata": {},
   "outputs": [],
   "source": [
    "sorted_Lprob = [[sorted_L[i][0], sum(sorted_L[j][1] for j in range(0, i+1))] for i in range(0, n)]"
   ]
  },
  {
   "cell_type": "code",
   "execution_count": 42,
   "metadata": {},
   "outputs": [],
   "source": [
    "for i in range(n):\n",
    "    if sorted_Lprob[i][1] >= 0.95:\n",
    "        q95 = sorted_Lprob[i][0]\n",
    "        break"
   ]
  },
  {
   "cell_type": "code",
   "execution_count": 43,
   "metadata": {},
   "outputs": [
    {
     "data": {
      "text/plain": [
       "9.366"
      ]
     },
     "execution_count": 43,
     "metadata": {},
     "output_type": "execute_result"
    }
   ],
   "source": [
    "q95"
   ]
  },
  {
   "cell_type": "code",
   "execution_count": 44,
   "metadata": {},
   "outputs": [
    {
     "name": "stdout",
     "output_type": "stream",
     "text": [
      "[9.366, 0.9698488435469452]\n"
     ]
    }
   ],
   "source": [
    "#szukamy takiego elementu listy (druga wartość - waga), żeby był on w przybliżeniu równy alpha\n",
    "diff = [abs(sorted_Lprob[i][1]-lamb1) for i in range(0, n)]\n",
    "ind = diff.index(min(diff))\n",
    "print(sorted_Lprob[ind]) #wartość VaR to pierwszy element z listy"
   ]
  },
  {
   "cell_type": "markdown",
   "metadata": {},
   "source": [
    "$VaR_{95\\%} = 0.06497$"
   ]
  },
  {
   "cell_type": "code",
   "execution_count": 45,
   "metadata": {},
   "outputs": [],
   "source": [
    "w1_lamb2 = 1/(1+np.sum([lamb2**(i-1) for i in range(2, n+1)]))"
   ]
  },
  {
   "cell_type": "code",
   "execution_count": 46,
   "metadata": {},
   "outputs": [],
   "source": [
    "weights_lamb2 = [w1_lamb2*lamb2**(i-1) for i in range(1, n+1)]"
   ]
  },
  {
   "cell_type": "code",
   "execution_count": 47,
   "metadata": {},
   "outputs": [],
   "source": [
    "sortedL_lamb2= sorted(list(zip(L, weights_lamb2)), key=lambda x: x[0])"
   ]
  },
  {
   "cell_type": "code",
   "execution_count": 48,
   "metadata": {},
   "outputs": [],
   "source": [
    "sortedL_prob_lamb2 = [[sortedL_lamb2[i][0], sum(sortedL_lamb2[j][1] for j in range(0, i+1))] for i in range(0, n)]"
   ]
  },
  {
   "cell_type": "code",
   "execution_count": 49,
   "metadata": {},
   "outputs": [],
   "source": [
    "for i in range(n):\n",
    "    if sortedL_prob_lamb2[i][1] >= 0.99:\n",
    "        q99 = sortedL_prob_lamb2[i][0]\n",
    "        break"
   ]
  },
  {
   "cell_type": "code",
   "execution_count": 50,
   "metadata": {},
   "outputs": [
    {
     "name": "stdout",
     "output_type": "stream",
     "text": [
      "[14.996, 0.9873495152197914]\n"
     ]
    }
   ],
   "source": [
    "#szukamy takiego elementu listy (druga wartość - waga), żeby był on w przybliżeniu równy alpha\n",
    "diff2 = [abs(sortedL_prob_lamb2[i][1]-lamb2) for i in range(0, n)]\n",
    "ind2 = diff2.index(min(diff2))\n",
    "print(sortedL_prob_lamb2[ind2]) #wartość VaR to pierwszy element z listy"
   ]
  },
  {
   "cell_type": "code",
   "execution_count": 51,
   "metadata": {},
   "outputs": [
    {
     "data": {
      "text/plain": [
       "16.393"
      ]
     },
     "execution_count": 51,
     "metadata": {},
     "output_type": "execute_result"
    }
   ],
   "source": [
    "q99"
   ]
  },
  {
   "cell_type": "markdown",
   "metadata": {},
   "source": [
    "$VaR_{99\\%} = 0.13654$"
   ]
  },
  {
   "cell_type": "markdown",
   "metadata": {},
   "source": [
    "### przy użyciu filtrowania szeregiem GARCH"
   ]
  },
  {
   "cell_type": "markdown",
   "metadata": {},
   "source": [
    "Zrobione w pliku Garch.R"
   ]
  },
  {
   "cell_type": "markdown",
   "metadata": {},
   "source": [
    "## c) metoda Monte Carlo"
   ]
  },
  {
   "cell_type": "code",
   "execution_count": 52,
   "metadata": {},
   "outputs": [
    {
     "name": "stdout",
     "output_type": "stream",
     "text": [
      "                            GLS Regression Results                            \n",
      "==============================================================================\n",
      "Dep. Variable:                      y   R-squared:                       0.002\n",
      "Model:                            GLS   Adj. R-squared:                  0.001\n",
      "Method:                 Least Squares   F-statistic:                     2.268\n",
      "Date:                Thu, 02 Jun 2022   Prob (F-statistic):              0.132\n",
      "Time:                        14:08:39   Log-Likelihood:                -3707.1\n",
      "No. Observations:                1251   AIC:                             7418.\n",
      "Df Residuals:                    1249   BIC:                             7429.\n",
      "Df Model:                           1                                         \n",
      "Covariance Type:            nonrobust                                         \n",
      "==============================================================================\n",
      "                 coef    std err          t      P>|t|      [0.025      0.975]\n",
      "------------------------------------------------------------------------------\n",
      "const          0.1100      0.133      0.830      0.407      -0.150       0.370\n",
      "x1            12.5489      8.333      1.506      0.132      -3.799      28.897\n",
      "==============================================================================\n",
      "Omnibus:                       32.763   Durbin-Watson:                   2.074\n",
      "Prob(Omnibus):                  0.000   Jarque-Bera (JB):               73.057\n",
      "Skew:                           0.046   Prob(JB):                     1.37e-16\n",
      "Kurtosis:                       4.180   Cond. No.                         62.9\n",
      "==============================================================================\n",
      "\n",
      "Notes:\n",
      "[1] Standard Errors assume that the covariance matrix of the errors is correctly specified.\n",
      "0.11002417297578641 12.548932123658163\n"
     ]
    }
   ],
   "source": [
    "#dobieramy model regresji liniowej dla zmiennej kakao opisanej czynnikiem ryzyka\n",
    "y1 = cocoa_close[:1251]\n",
    "x1 = pln_usd_close[0:1251]\n",
    "x1 = sm.add_constant(x1)\n",
    "model1 = sm.GLS(y1, x1).fit()\n",
    "\n",
    "print(model1.summary())\n",
    "\n",
    "alpha1 = model1.params[0]\n",
    "beta1 = model1.params[1]\n",
    "print(alpha1, beta1)\n",
    "\n"
   ]
  },
  {
   "cell_type": "code",
   "execution_count": 53,
   "metadata": {},
   "outputs": [],
   "source": [
    "residuals = model1.resid\n",
    "#sigma_resid = np.var(residuals)\n",
    "#mu_resid = np.mean(residuals)"
   ]
  },
  {
   "cell_type": "code",
   "execution_count": 54,
   "metadata": {},
   "outputs": [],
   "source": [
    "train = pln_usd_close[:1251]\n",
    "test = pln_usd_close[-1]"
   ]
  },
  {
   "cell_type": "code",
   "execution_count": 55,
   "metadata": {},
   "outputs": [
    {
     "data": {
      "text/plain": [
       "(7.545095597360221, 11.790429958459036)"
      ]
     },
     "execution_count": 55,
     "metadata": {},
     "output_type": "execute_result"
    }
   ],
   "source": [
    "x = test + residuals\n",
    "np.quantile(x,0.95),np.quantile(x,0.99)"
   ]
  },
  {
   "cell_type": "markdown",
   "metadata": {},
   "source": [
    "# 3. Testowanie wsteczne dla każdego z podpunktów."
   ]
  },
  {
   "cell_type": "markdown",
   "metadata": {},
   "source": [
    "### Test pokrycia (Kupca)"
   ]
  },
  {
   "cell_type": "code",
   "execution_count": 82,
   "metadata": {},
   "outputs": [],
   "source": [
    "# metoda parametryczna - gev\n",
    "def var_parametric(data, alpha):\n",
    "    fit = gev.fit(data)\n",
    "    ksi = fit[0]\n",
    "    mu = fit[1]\n",
    "    sigma = fit[2]\n",
    "\n",
    "    VaR = mu - (sigma/ksi)*(1-(-np.log(alpha))**(-ksi))\n",
    "    return VaR"
   ]
  },
  {
   "cell_type": "code",
   "execution_count": 83,
   "metadata": {},
   "outputs": [],
   "source": [
    "# metoda historyczna: VaR == kwantyl empiryczny\n",
    "def var_hist(data, alpha):\n",
    "    VaR = np.quantile(data, alpha)\n",
    "    return VaR"
   ]
  },
  {
   "cell_type": "code",
   "execution_count": 84,
   "metadata": {},
   "outputs": [],
   "source": [
    "# metoda historyczna ważona\n",
    "def var_hist_waged(data, alpha):\n",
    "    data = np.flip(data)\n",
    "    n = len(data)\n",
    "    lamb = 0.95\n",
    "\n",
    "    w1 = 1/(1+np.sum([lamb**(i-1) for i in range(2,n+1)]))\n",
    "    weights = [w1*lamb**(i-1) for i in range(1,n+1)]\n",
    "\n",
    "    sorted_L = sorted(list(zip(data, weights)), key=lambda x: x[0])\n",
    "    sorted_Lprob = [[sorted_L[i][0], sum(sorted_L[j][1] for j in range(0, i+1))] for i in range(0, n)]\n",
    "    \n",
    "    for i in range(n):\n",
    "        if sorted_Lprob[i][1] >= alpha:\n",
    "            VaR = sorted_Lprob[i][0]\n",
    "            break\n",
    "\n",
    "    return VaR"
   ]
  },
  {
   "cell_type": "code",
   "execution_count": 88,
   "metadata": {},
   "outputs": [],
   "source": [
    "def coverage_test(data, alpha, var_type=\"var_hist\"):\n",
    "    n = len(data)\n",
    "    train = data[:int(n/2)]\n",
    "    test = data[int(n/2):]\n",
    "\n",
    "    train_copy = train\n",
    "\n",
    "    I = []\n",
    "    for i in range(len(test)):\n",
    "        VaR = eval(var_type)(train_copy, alpha)\n",
    "        if test[i] < VaR:\n",
    "            I.append(1)\n",
    "        else:\n",
    "            I.append(0)\n",
    "\n",
    "        train_copy = np.delete(train_copy,0)\n",
    "        train_copy = np.append(train_copy,test[i])\n",
    "\n",
    "    p = alpha\n",
    "\n",
    "    I = np.array(I)\n",
    "    I_0 = np.count_nonzero(I==0)\n",
    "    I_1 = np.count_nonzero(I==1)\n",
    "    pi = np.mean(I)\n",
    "    \n",
    "    L_pi = (1-pi)**I_0 * pi**I_1\n",
    "    L_p = (1-p)**I_0 * p**I_1\n",
    "    LR = -2 * np.log(L_p/L_pi)\n",
    "\n",
    "    pvalue = 1 - chi2.cdf(LR, 1)\n",
    "\n",
    "    return pvalue"
   ]
  },
  {
   "cell_type": "code",
   "execution_count": 90,
   "metadata": {},
   "outputs": [
    {
     "data": {
      "text/plain": [
       "1.0960767607204325e-05"
      ]
     },
     "execution_count": 90,
     "metadata": {},
     "output_type": "execute_result"
    }
   ],
   "source": [
    "coverage_test(np.flip(L), 0.95, \"var_parametric\")"
   ]
  },
  {
   "cell_type": "code",
   "execution_count": 99,
   "metadata": {},
   "outputs": [
    {
     "data": {
      "text/plain": [
       "7.31877225490507e-10"
      ]
     },
     "execution_count": 99,
     "metadata": {},
     "output_type": "execute_result"
    }
   ],
   "source": [
    "coverage_test(np.flip(L), 0.99, \"var_parametric\")"
   ]
  },
  {
   "cell_type": "code",
   "execution_count": 89,
   "metadata": {},
   "outputs": [
    {
     "data": {
      "text/plain": [
       "0.8968476121942868"
      ]
     },
     "execution_count": 89,
     "metadata": {},
     "output_type": "execute_result"
    }
   ],
   "source": [
    "coverage_test(np.flip(L), 0.95, \"var_hist\")"
   ]
  },
  {
   "cell_type": "code",
   "execution_count": 97,
   "metadata": {},
   "outputs": [
    {
     "data": {
      "text/plain": [
       "0.3192186461155102"
      ]
     },
     "execution_count": 97,
     "metadata": {},
     "output_type": "execute_result"
    }
   ],
   "source": [
    "coverage_test(np.flip(L), 0.99, \"var_hist\")"
   ]
  },
  {
   "cell_type": "code",
   "execution_count": 91,
   "metadata": {},
   "outputs": [
    {
     "data": {
      "text/plain": [
       "0.3775935481321544"
      ]
     },
     "execution_count": 91,
     "metadata": {},
     "output_type": "execute_result"
    }
   ],
   "source": [
    "coverage_test(np.flip(L), 0.95, \"var_hist_waged\")"
   ]
  },
  {
   "cell_type": "code",
   "execution_count": 98,
   "metadata": {},
   "outputs": [
    {
     "data": {
      "text/plain": [
       "0.05597221395983787"
      ]
     },
     "execution_count": 98,
     "metadata": {},
     "output_type": "execute_result"
    }
   ],
   "source": [
    "coverage_test(np.flip(L), 0.99, \"var_hist_waged\")"
   ]
  },
  {
   "cell_type": "markdown",
   "metadata": {},
   "source": [
    "### Test niezależności"
   ]
  },
  {
   "cell_type": "code",
   "execution_count": 92,
   "metadata": {},
   "outputs": [],
   "source": [
    "def independence_test(data, alpha, var_type=\"var_hist\"):\n",
    "    n = len(data)\n",
    "    train = data[:int(n/2)]\n",
    "    test = data[int(n/2):]\n",
    "\n",
    "    train_copy = train\n",
    "\n",
    "    I = []\n",
    "    for i in range(len(test)):\n",
    "        VaR = eval(var_type)(train_copy, alpha)\n",
    "        if test[i] < VaR:\n",
    "            I.append(1)\n",
    "        else:\n",
    "            I.append(0)\n",
    "\n",
    "        train_copy = np.delete(train_copy,0)\n",
    "        train_copy = np.append(train_copy,test[i])\n",
    "\n",
    "    I = np.array(I)\n",
    "    pi = np.mean(I)\n",
    "\n",
    "    I_00 = 0\n",
    "    I_01 = 0\n",
    "    I_10 = 0\n",
    "    I_11 = 0\n",
    "\n",
    "    pairs = [(I[i],I[i+1]) for i in range(len(I)-1)]\n",
    "\n",
    "    for i in range(len(pairs)):\n",
    "        if pairs[i] == (0, 0):\n",
    "            I_00 += 1\n",
    "        if pairs[i] == (0, 1):\n",
    "            I_01 += 1\n",
    "        if pairs[i] == (1, 0):\n",
    "            I_10 += 1\n",
    "        if pairs[i] == (1, 1):\n",
    "            I_11 += 1\n",
    "\n",
    "    L_pi = (1 - I_01/(I_00+I_01))**(I_00) * (I_01/(I_00+I_01))**(I_01) * (1 - I_11/(I_10+I_11))**I_10 * (I_11/(I_10+I_11))**I_11\n",
    "    L_PI = (1-pi)**(I_00) * (pi)**(I_01) * (1 - pi)**I_10 * (pi)**I_11\n",
    "\n",
    "    LR = -2*np.log(L_PI/L_pi)\n",
    "    pvalue = 1 - chi2.cdf(LR,1)\n",
    "\n",
    "    return pvalue"
   ]
  },
  {
   "cell_type": "code",
   "execution_count": 95,
   "metadata": {},
   "outputs": [
    {
     "data": {
      "text/plain": [
       "0.5972385265642555"
      ]
     },
     "execution_count": 95,
     "metadata": {},
     "output_type": "execute_result"
    }
   ],
   "source": [
    "independence_test(np.flip(L), 0.95, \"var_parametric\")"
   ]
  },
  {
   "cell_type": "code",
   "execution_count": 100,
   "metadata": {},
   "outputs": [
    {
     "data": {
      "text/plain": [
       "0.8648303728556412"
      ]
     },
     "execution_count": 100,
     "metadata": {},
     "output_type": "execute_result"
    }
   ],
   "source": [
    "independence_test(np.flip(L), 0.99, \"var_parametric\")"
   ]
  },
  {
   "cell_type": "code",
   "execution_count": 96,
   "metadata": {},
   "outputs": [
    {
     "data": {
      "text/plain": [
       "0.8465307807219629"
      ]
     },
     "execution_count": 96,
     "metadata": {},
     "output_type": "execute_result"
    }
   ],
   "source": [
    "independence_test(np.flip(L), 0.95, \"var_hist\")"
   ]
  },
  {
   "cell_type": "code",
   "execution_count": 101,
   "metadata": {},
   "outputs": [
    {
     "data": {
      "text/plain": [
       "0.6850159313954863"
      ]
     },
     "execution_count": 101,
     "metadata": {},
     "output_type": "execute_result"
    }
   ],
   "source": [
    "independence_test(np.flip(L), 0.99, \"var_hist\")"
   ]
  },
  {
   "cell_type": "code",
   "execution_count": 94,
   "metadata": {},
   "outputs": [
    {
     "data": {
      "text/plain": [
       "0.8648303728556412"
      ]
     },
     "execution_count": 94,
     "metadata": {},
     "output_type": "execute_result"
    }
   ],
   "source": [
    "independence_test(np.flip(L), 0.95, \"var_hist_waged\")"
   ]
  },
  {
   "cell_type": "code",
   "execution_count": 102,
   "metadata": {},
   "outputs": [
    {
     "data": {
      "text/plain": [
       "0.5688520359330581"
      ]
     },
     "execution_count": 102,
     "metadata": {},
     "output_type": "execute_result"
    }
   ],
   "source": [
    "independence_test(np.flip(L), 0.99, \"var_hist_waged\")"
   ]
  }
 ],
 "metadata": {
  "interpreter": {
   "hash": "390a474573512b40ef03ec13ac0aa875e15e62e27560c3d9cfbc40cb2890ab6d"
  },
  "kernelspec": {
   "display_name": "Python 3.7.4 32-bit",
   "language": "python",
   "name": "python3"
  },
  "language_info": {
   "codemirror_mode": {
    "name": "ipython",
    "version": 3
   },
   "file_extension": ".py",
   "mimetype": "text/x-python",
   "name": "python",
   "nbconvert_exporter": "python",
   "pygments_lexer": "ipython3",
   "version": "3.7.4"
  },
  "orig_nbformat": 4
 },
 "nbformat": 4,
 "nbformat_minor": 2
}
