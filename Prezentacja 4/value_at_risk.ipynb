{
 "cells": [
  {
   "cell_type": "code",
   "execution_count": 2,
   "metadata": {},
   "outputs": [],
   "source": [
    "import numpy as np\n",
    "import matplotlib.pyplot as plt\n",
    "import pandas as pd\n",
    "import seaborn as sns\n",
    "import statsmodels.api as sm\n",
    "from scipy.stats import kstest, jarque_bera, shapiro, ttest_1samp\n",
    "from statsmodels.stats.diagnostic import acorr_ljungbox,het_arch, het_white\n",
    "from statsmodels.graphics.tsaplots import plot_acf\n",
    "from scipy.stats import genextreme as gev\n",
    "import scipy.stats as stats\n",
    "from statsmodels.distributions.empirical_distribution import ECDF\n",
    "\n",
    "\n",
    "import warnings\n",
    "warnings.filterwarnings(\"ignore\")\n",
    "\n",
    "plt.rcParams[\"figure.figsize\"] = (12,7)\n",
    "plt.rcParams['axes.grid'] = True\n",
    "plt.rcParams['grid.linestyle'] = \"--\"\n",
    "plt.rcParams['savefig.facecolor']='white'"
   ]
  },
  {
   "cell_type": "code",
   "execution_count": 3,
   "metadata": {},
   "outputs": [],
   "source": [
    "def normality(data):\n",
    "    mu = np.mean(data)\n",
    "    sigma = np.std(data)\n",
    "\n",
    "    print(\"Test Kołmogorowa-Smirnowa: {}.\".format(kstest((data-mu)/sigma, 'norm').pvalue))\n",
    "    print(\"Test Jarque-Bera: {}.\".format(jarque_bera(data).pvalue))\n",
    "    print(\"Test Shapiro-Wilka: {}.\".format(shapiro(data).pvalue))\n",
    "\n",
    "    fig, axes = plt.subplots(1, 3, figsize=(20,6))\n",
    "\n",
    "    x = np.arange(min(data), max(data)+1)\n",
    "    axes[0].hist(data, bins=20, color='deeppink', alpha=0.6, density=True, label=\"Histogram prawdopodobieństwa danych\")\n",
    "    axes[0].plot(x, stats.norm.pdf(x, mu, sigma), color='indigo', label=\"Gęstość teoretyczna\")\n",
    "    axes[0].set_title('Porównanie gęstości')\n",
    "    axes[0].legend(loc=\"best\")\n",
    "\n",
    "    ecdf = ECDF(data)\n",
    "    axes[1].set_title('Porównanie dystrybuant')\n",
    "    axes[1].plot(x, ecdf(x), color='deeppink', label='Dystrybuanta empiryczna')\n",
    "    axes[1].plot(x, stats.norm.cdf(x, mu, sigma), color=\"indigo\", linestyle='--', label=\"Dystrybuanta teoretyczna\")\n",
    "    axes[1].legend(loc=\"best\")\n",
    "\n",
    "    bplot = axes[2].boxplot(data, patch_artist=True, medianprops=dict(color=\"deeppink\"))\n",
    "    bplot['boxes'][0].set_facecolor('white')\n",
    "    axes[2].grid(False)\n",
    "    axes[2].set_title(\"Boxplot danych\")\n",
    "\n",
    "    plt.show()"
   ]
  },
  {
   "cell_type": "markdown",
   "metadata": {},
   "source": [
    "# Przygotowanie danych"
   ]
  },
  {
   "cell_type": "code",
   "execution_count": 4,
   "metadata": {},
   "outputs": [],
   "source": [
    "cocoa = pd.read_csv('Cocoa.csv')\n",
    "milk = pd.read_csv('Milk.csv')\n",
    "sugar = pd.read_csv('Sugar.csv')"
   ]
  },
  {
   "cell_type": "code",
   "execution_count": 5,
   "metadata": {},
   "outputs": [],
   "source": [
    "cocoa['Date'] = pd.to_datetime(cocoa['Date'])\n",
    "milk['Date'] = pd.to_datetime(milk['Date'])\n",
    "sugar['Date'] = pd.to_datetime(sugar['Date'])"
   ]
  },
  {
   "cell_type": "code",
   "execution_count": 6,
   "metadata": {},
   "outputs": [],
   "source": [
    "cocoa['Close/Last'] = cocoa['Close/Last'].astype(float)\n",
    "milk['Close/Last'] = milk['Close/Last'].astype(float)\n",
    "sugar['Close/Last'] = sugar['Close/Last'].astype(float)"
   ]
  },
  {
   "cell_type": "code",
   "execution_count": 7,
   "metadata": {},
   "outputs": [],
   "source": [
    "pln_usd = pd.read_csv(\"PLNUSD=X.csv\")"
   ]
  },
  {
   "cell_type": "code",
   "execution_count": 8,
   "metadata": {},
   "outputs": [],
   "source": [
    "pln_usd = pln_usd[pln_usd[\"Close\"].notnull()]"
   ]
  },
  {
   "cell_type": "code",
   "execution_count": 9,
   "metadata": {},
   "outputs": [],
   "source": [
    "pln_usd.reset_index(inplace=True)"
   ]
  },
  {
   "cell_type": "code",
   "execution_count": 10,
   "metadata": {},
   "outputs": [],
   "source": [
    "pln_usd[\"Date\"] = pd.to_datetime(pln_usd[\"Date\"])"
   ]
  },
  {
   "cell_type": "code",
   "execution_count": 11,
   "metadata": {},
   "outputs": [],
   "source": [
    "dates = []\n",
    "for i in range(len(pln_usd)):\n",
    "    if pln_usd[\"Date\"][i] not in list(cocoa[\"Date\"]):\n",
    "        dates.append(pln_usd[\"Date\"][i])\n",
    "    if pln_usd[\"Date\"][i] not in list(milk[\"Date\"]):\n",
    "        dates.append(pln_usd[\"Date\"][i])\n",
    "    if pln_usd[\"Date\"][i] not in list(sugar[\"Date\"]):\n",
    "        dates.append(pln_usd[\"Date\"][i])"
   ]
  },
  {
   "cell_type": "code",
   "execution_count": 12,
   "metadata": {},
   "outputs": [],
   "source": [
    "for i in range(len(cocoa)):\n",
    "    if cocoa[\"Date\"][i] not in list(pln_usd[\"Date\"]):\n",
    "        dates.append(cocoa[\"Date\"][i])\n",
    "    if sugar[\"Date\"][i] not in list(pln_usd[\"Date\"]):\n",
    "        dates.append(sugar[\"Date\"][i])"
   ]
  },
  {
   "cell_type": "code",
   "execution_count": 13,
   "metadata": {},
   "outputs": [],
   "source": [
    "for i in range(len(milk)):\n",
    "    if milk[\"Date\"][i] not in list(pln_usd[\"Date\"]):\n",
    "        dates.append(milk[\"Date\"][i])"
   ]
  },
  {
   "cell_type": "code",
   "execution_count": 14,
   "metadata": {},
   "outputs": [],
   "source": [
    "dates = list(set(dates))"
   ]
  },
  {
   "cell_type": "code",
   "execution_count": 15,
   "metadata": {},
   "outputs": [],
   "source": [
    "for i in range(len(dates)):\n",
    "    pln_usd = pln_usd[pln_usd[\"Date\"] !=  dates[i]]\n",
    "    cocoa = cocoa[cocoa[\"Date\"] !=  dates[i]]\n",
    "    milk = milk[milk[\"Date\"] !=  dates[i]]\n",
    "    sugar = sugar[sugar[\"Date\"] !=  dates[i]]"
   ]
  },
  {
   "cell_type": "code",
   "execution_count": 16,
   "metadata": {},
   "outputs": [],
   "source": [
    "pln_usd = pln_usd[::-1]"
   ]
  },
  {
   "cell_type": "code",
   "execution_count": 17,
   "metadata": {},
   "outputs": [],
   "source": [
    "pln_usd.reset_index(inplace=True)\n",
    "cocoa.reset_index(inplace=True)\n",
    "milk.reset_index(inplace=True)\n",
    "sugar.reset_index(inplace=True)"
   ]
  },
  {
   "cell_type": "markdown",
   "metadata": {},
   "source": [
    "Zamiana danych na stopy procentowe."
   ]
  },
  {
   "cell_type": "code",
   "execution_count": 18,
   "metadata": {},
   "outputs": [],
   "source": [
    "T = 1/252\n",
    "cocoa_close = np.array([round((cocoa['Close/Last'][i] - cocoa['Close/Last'][i+1])/(cocoa['Close/Last'][i+1] * T),3) for i in range(len(cocoa)-1)])\n",
    "milk_close = np.array([round((milk['Close/Last'][i] - milk['Close/Last'][i+1])/(milk['Close/Last'][i+1] * T), 3) for i in range(len(milk)-1)])\n",
    "sugar_close = np.array([round((sugar['Close/Last'][i] - sugar['Close/Last'][i+1])/(sugar['Close/Last'][i+1] * T), 3) for i in range(len(sugar)-1)])\n",
    "pln_usd_close = np.array([round((pln_usd['Close'][i] - pln_usd['Close'][i+1])/(pln_usd['Close'][i+1] * T), 3) for i in range(len(pln_usd)-1)])"
   ]
  },
  {
   "cell_type": "code",
   "execution_count": 19,
   "metadata": {},
   "outputs": [],
   "source": [
    "cocoa_close /= 100\n",
    "milk_close /= 100\n",
    "sugar_close /= 100\n",
    "pln_usd_close /= 100"
   ]
  },
  {
   "cell_type": "code",
   "execution_count": 20,
   "metadata": {},
   "outputs": [
    {
     "name": "stdout",
     "output_type": "stream",
     "text": [
      "0.0011226437699680513 0.046895540026747284\n",
      "0.0017608067092651758 0.06315052203248535\n",
      "0.0007991214057507985 0.0481337056540928\n"
     ]
    }
   ],
   "source": [
    "mu_c = np.mean(cocoa_close)\n",
    "sigma_c = np.std(cocoa_close)\n",
    "print(mu_c, sigma_c)\n",
    "\n",
    "mu_m = np.mean(milk_close)\n",
    "sigma_m = np.std(milk_close)\n",
    "print(mu_m, sigma_m)\n",
    "\n",
    "mu_s = np.mean(sugar_close)\n",
    "sigma_s = np.std(sugar_close)\n",
    "print(mu_s, sigma_s)"
   ]
  },
  {
   "cell_type": "code",
   "execution_count": 21,
   "metadata": {},
   "outputs": [
    {
     "name": "stdout",
     "output_type": "stream",
     "text": [
      "[[-0.03694 -0.00097  0.0127  ... -0.00941  0.0313   0.04996]\n",
      " [-0.00205  0.0417  -0.02171 ... -0.00497  0.00166  0.     ]\n",
      " [-0.0799   0.03211 -0.01532 ... -0.03277 -0.1246  -0.00931]]\n"
     ]
    }
   ],
   "source": [
    "n = len(cocoa_close)\n",
    "C = cocoa_close.reshape(1,n)\n",
    "M = milk_close.reshape(1,n)\n",
    "S = sugar_close.reshape(1,n)\n",
    "R = np.concatenate([C,M,S],axis=0)\n",
    "print(R)"
   ]
  },
  {
   "cell_type": "markdown",
   "metadata": {},
   "source": [
    "$R_p = 0.4\\cdot R_c + 0.22\\cdot R_s + 0.38\\cdot R_m$"
   ]
  },
  {
   "cell_type": "code",
   "execution_count": 22,
   "metadata": {},
   "outputs": [],
   "source": [
    "Rp = 0.5 * cocoa_close + 0.2 * milk_close + 0.3 * sugar_close"
   ]
  },
  {
   "cell_type": "code",
   "execution_count": 23,
   "metadata": {},
   "outputs": [
    {
     "name": "stdout",
     "output_type": "stream",
     "text": [
      "Stopa zwrotu porfela: 0.0011532196485623003, ryzyko portfela: 0.03151053404357198.\n"
     ]
    }
   ],
   "source": [
    "w = np.array([0.5, 0.2, 0.3])\n",
    "print(\"Stopa zwrotu porfela: {}, ryzyko portfela: {}.\".format(w[0]*mu_c + w[1]*mu_m + w[2]*mu_s, np.sqrt(np.dot(w.T, np.dot(np.cov(R), w)))))"
   ]
  },
  {
   "cell_type": "markdown",
   "metadata": {},
   "source": [
    "# Wartość zagrożna (dla zmiennej kakao)"
   ]
  },
  {
   "cell_type": "markdown",
   "metadata": {},
   "source": [
    "## a) metoda parametryczna"
   ]
  },
  {
   "cell_type": "code",
   "execution_count": 24,
   "metadata": {},
   "outputs": [],
   "source": [
    "L = cocoa_close[cocoa_close > 0] #dodatnie stopy zwrotu są dla nas stratą"
   ]
  },
  {
   "cell_type": "code",
   "execution_count": 25,
   "metadata": {},
   "outputs": [],
   "source": [
    "cocoa_close *= 100"
   ]
  },
  {
   "cell_type": "code",
   "execution_count": 26,
   "metadata": {},
   "outputs": [
    {
     "name": "stdout",
     "output_type": "stream",
     "text": [
      "Test Kołmogorowa-Smirnowa: 0.5032361558324656.\n",
      "Test Jarque-Bera: 0.0.\n",
      "Test Shapiro-Wilka: 2.2536489723279374e-06.\n"
     ]
    },
    {
     "data": {
      "image/png": "[encoded data removed]",
      "text/plain": [
       "<Figure size 1440x432 with 3 Axes>"
      ]
     },
     "metadata": {
      "needs_background": "light"
     },
     "output_type": "display_data"
    }
   ],
   "source": [
    "normality(cocoa_close)"
   ]
  },
  {
   "cell_type": "markdown",
   "metadata": {},
   "source": [
    "Do danych dobieramy odpowiedni rozkład. W naszym przypadku jest to rozkład GEV."
   ]
  },
  {
   "cell_type": "code",
   "execution_count": 27,
   "metadata": {},
   "outputs": [
    {
     "data": {
      "image/png": "[encoded data removed]",
      "text/plain": [
       "<Figure size 864x504 with 1 Axes>"
      ]
     },
     "metadata": {
      "needs_background": "light"
     },
     "output_type": "display_data"
    }
   ],
   "source": [
    "t = np.linspace(0,0.5,100)\n",
    "plt.hist(L, density=True, bins=\"auto\", label=\"Histogram prawdopodobieństwa danych\", color='deeppink', alpha=0.6)\n",
    "fit = gev.fit(L)\n",
    "pdf = gev.pdf(t, *fit)\n",
    "plt.plot(t, pdf, label=\"Gęstość teoretyczna\", color='indigo')\n",
    "plt.title(\"Porównanie gęstości\", fontsize=20)\n",
    "plt.legend()\n",
    "#plt.savefig(\"gev_dens\")\n",
    "plt.show()"
   ]
  },
  {
   "cell_type": "code",
   "execution_count": 28,
   "metadata": {},
   "outputs": [
    {
     "name": "stdout",
     "output_type": "stream",
     "text": [
      "parametry rozkładu:  (-0.1915170844835163, 0.022761440773623947, 0.01933471301894278)\n"
     ]
    }
   ],
   "source": [
    "print(\"parametry rozkładu: \", fit) #shape, location, scale"
   ]
  },
  {
   "cell_type": "code",
   "execution_count": 29,
   "metadata": {},
   "outputs": [
    {
     "data": {
      "text/plain": [
       "0.07825894287081127"
      ]
     },
     "execution_count": 29,
     "metadata": {},
     "output_type": "execute_result"
    }
   ],
   "source": [
    "mu_c = np.mean(cocoa_close)\n",
    "sigma_c = np.std(cocoa_close)\n",
    "stats.norm.ppf(0.95, mu_c, sigma_c)/100"
   ]
  },
  {
   "cell_type": "code",
   "execution_count": 30,
   "metadata": {},
   "outputs": [
    {
     "data": {
      "text/plain": [
       "0.11021798361318876"
      ]
     },
     "execution_count": 30,
     "metadata": {},
     "output_type": "execute_result"
    }
   ],
   "source": [
    "stats.norm.ppf(0.99,mu_c,sigma_c)/100"
   ]
  },
  {
   "cell_type": "code",
   "execution_count": 31,
   "metadata": {},
   "outputs": [],
   "source": [
    "ksi = fit[0]\n",
    "mu = fit[1]\n",
    "sigma = fit[2]"
   ]
  },
  {
   "cell_type": "markdown",
   "metadata": {},
   "source": [
    "$VaR_{95\\%}$"
   ]
  },
  {
   "cell_type": "code",
   "execution_count": 32,
   "metadata": {},
   "outputs": [
    {
     "data": {
      "text/plain": [
       "0.06655797295748683"
      ]
     },
     "execution_count": 32,
     "metadata": {},
     "output_type": "execute_result"
    }
   ],
   "source": [
    "mu - (sigma/ksi)*(1-(-np.log(0.95))**(-ksi)) #tu chyba jest błąd"
   ]
  },
  {
   "cell_type": "code",
   "execution_count": 33,
   "metadata": {},
   "outputs": [
    {
     "data": {
      "text/plain": [
       "0.9937965321838629"
      ]
     },
     "execution_count": 33,
     "metadata": {},
     "output_type": "execute_result"
    }
   ],
   "source": [
    "0.95 - (sigma/ksi)*(1-(-np.log(0.95))**(-ksi))"
   ]
  },
  {
   "cell_type": "markdown",
   "metadata": {},
   "source": [
    "$VaR_{99\\%}$"
   ]
  },
  {
   "cell_type": "code",
   "execution_count": 34,
   "metadata": {},
   "outputs": [
    {
     "data": {
      "text/plain": [
       "1.049123067873653"
      ]
     },
     "execution_count": 34,
     "metadata": {},
     "output_type": "execute_result"
    }
   ],
   "source": [
    "0.99 - (sigma/ksi) * (1-(-np.log(0.99))**(-ksi))"
   ]
  },
  {
   "cell_type": "markdown",
   "metadata": {},
   "source": [
    "## b) metoda historyczna"
   ]
  },
  {
   "cell_type": "markdown",
   "metadata": {},
   "source": [
    "### zwykła"
   ]
  },
  {
   "cell_type": "code",
   "execution_count": 35,
   "metadata": {},
   "outputs": [
    {
     "data": {
      "text/plain": [
       "0.08951999999999995"
      ]
     },
     "execution_count": 35,
     "metadata": {},
     "output_type": "execute_result"
    }
   ],
   "source": [
    "np.quantile(L, 0.95) #punkt, poniżej którego jest 5% obserwacji"
   ]
  },
  {
   "cell_type": "code",
   "execution_count": 36,
   "metadata": {},
   "outputs": [
    {
     "data": {
      "text/plain": [
       "0.13597829999999997"
      ]
     },
     "execution_count": 36,
     "metadata": {},
     "output_type": "execute_result"
    }
   ],
   "source": [
    "np.quantile(L, 0.99)"
   ]
  },
  {
   "cell_type": "markdown",
   "metadata": {},
   "source": [
    "### ważona"
   ]
  },
  {
   "cell_type": "code",
   "execution_count": 37,
   "metadata": {},
   "outputs": [],
   "source": [
    "lamb1 = 0.95\n",
    "lamb2 = 0.99\n",
    "n = len(L)"
   ]
  },
  {
   "cell_type": "code",
   "execution_count": 38,
   "metadata": {},
   "outputs": [],
   "source": [
    "w1 = 1/(1+np.sum([lamb1**(i-1) for i in range(2,n+1)]))"
   ]
  },
  {
   "cell_type": "code",
   "execution_count": 39,
   "metadata": {},
   "outputs": [],
   "source": [
    "weights = [w1*lamb1**(i-1) for i in range(1,n+1)]"
   ]
  },
  {
   "cell_type": "code",
   "execution_count": 40,
   "metadata": {},
   "outputs": [],
   "source": [
    "sorted_L = sorted(list(zip(cocoa_close, weights)), key=lambda x: x[0])"
   ]
  },
  {
   "cell_type": "code",
   "execution_count": 41,
   "metadata": {},
   "outputs": [],
   "source": [
    "sorted_Lprob = [[sorted_L[i][0], sum(sorted_L[j][1] for j in range(0, i+1))] for i in range(0, n)]"
   ]
  },
  {
   "cell_type": "code",
   "execution_count": 42,
   "metadata": {},
   "outputs": [
    {
     "name": "stdout",
     "output_type": "stream",
     "text": [
      "[6.497, 0.9522069677065228]\n"
     ]
    }
   ],
   "source": [
    "#szukamy takiego elementu listy (druga wartość - waga), żeby był on w przybliżeniu równy alpha\n",
    "diff = [abs(sorted_Lprob[i][1]-lamb1) for i in range(0, n)]\n",
    "ind = diff.index(min(diff))\n",
    "print(sorted_Lprob[ind]) #wartość VaR to pierwszy element z listy"
   ]
  },
  {
   "cell_type": "markdown",
   "metadata": {},
   "source": [
    "$VaR_{95\\%} = 0.06497$"
   ]
  },
  {
   "cell_type": "code",
   "execution_count": 43,
   "metadata": {},
   "outputs": [],
   "source": [
    "w1_lamb2 = 1/(1+np.sum([lamb2**(i-1) for i in range(2, n+1)]))"
   ]
  },
  {
   "cell_type": "code",
   "execution_count": 44,
   "metadata": {},
   "outputs": [],
   "source": [
    "weights_lamb2 = [w1_lamb2*lamb2**(i-1) for i in range(1, n+1)]"
   ]
  },
  {
   "cell_type": "code",
   "execution_count": 45,
   "metadata": {},
   "outputs": [],
   "source": [
    "sortedL_lamb2= sorted(list(zip(cocoa_close, weights_lamb2)), key=lambda x: x[0])"
   ]
  },
  {
   "cell_type": "code",
   "execution_count": 46,
   "metadata": {},
   "outputs": [],
   "source": [
    "sortedL_prob_lamb2 = [[sortedL_lamb2[i][0], sum(sortedL_lamb2[j][1] for j in range(0, i+1))] for i in range(0, n)]"
   ]
  },
  {
   "cell_type": "code",
   "execution_count": 47,
   "metadata": {},
   "outputs": [
    {
     "name": "stdout",
     "output_type": "stream",
     "text": [
      "[13.654, 0.9917786100972099]\n"
     ]
    }
   ],
   "source": [
    "#szukamy takiego elementu listy (druga wartość - waga), żeby był on w przybliżeniu równy alpha\n",
    "diff2 = [abs(sortedL_prob_lamb2[i][1]-lamb2) for i in range(0, n)]\n",
    "ind2 = diff2.index(min(diff2))\n",
    "print(sortedL_prob_lamb2[ind2]) #wartość VaR to pierwszy element z listy"
   ]
  },
  {
   "cell_type": "markdown",
   "metadata": {},
   "source": [
    "$VaR_{99\\%} = 0.13654$"
   ]
  },
  {
   "cell_type": "markdown",
   "metadata": {},
   "source": [
    "### przy użyciu filtrowania szeregiem GARCH"
   ]
  },
  {
   "cell_type": "code",
   "execution_count": null,
   "metadata": {},
   "outputs": [],
   "source": []
  },
  {
   "cell_type": "markdown",
   "metadata": {},
   "source": [
    "## c) metoda Monte Carlo"
   ]
  },
  {
   "cell_type": "code",
   "execution_count": 52,
   "metadata": {},
   "outputs": [
    {
     "name": "stdout",
     "output_type": "stream",
     "text": [
      "                            GLS Regression Results                            \n",
      "==============================================================================\n",
      "Dep. Variable:                      y   R-squared:                       0.000\n",
      "Model:                            GLS   Adj. R-squared:                 -0.001\n",
      "Method:                 Least Squares   F-statistic:                    0.2325\n",
      "Date:                Wed, 01 Jun 2022   Prob (F-statistic):              0.630\n",
      "Time:                        00:40:14   Log-Likelihood:                -3711.2\n",
      "No. Observations:                1252   AIC:                             7426.\n",
      "Df Residuals:                    1250   BIC:                             7437.\n",
      "Df Model:                           1                                         \n",
      "Covariance Type:            nonrobust                                         \n",
      "==============================================================================\n",
      "                 coef    std err          t      P>|t|      [0.025      0.975]\n",
      "------------------------------------------------------------------------------\n",
      "const          0.0016      0.265      0.006      0.995      -0.518       0.522\n",
      "x1             0.0002      0.000      0.482      0.630      -0.001       0.001\n",
      "==============================================================================\n",
      "Omnibus:                       33.212   Durbin-Watson:                   2.064\n",
      "Prob(Omnibus):                  0.000   Jarque-Bera (JB):               74.759\n",
      "Skew:                           0.042   Prob(JB):                     5.84e-17\n",
      "Kurtosis:                       4.194   Cond. No.                     1.44e+03\n",
      "==============================================================================\n",
      "\n",
      "Notes:\n",
      "[1] Standard Errors assume that the covariance matrix of the errors is correctly specified.\n",
      "[2] The condition number is large, 1.44e+03. This might indicate that there are\n",
      "strong multicollinearity or other numerical problems.\n",
      "0.0015868535323530636 0.0001769424835562783\n"
     ]
    }
   ],
   "source": [
    "#dobieramy model regresji liniowej dla zmiennej kakao\n",
    "y1 = cocoa_close\n",
    "x1 = np.arange(0, len(y1))\n",
    "\n",
    "x1 = sm.add_constant(x1)\n",
    "model1 = sm.GLS(y1, x1).fit()\n",
    "\n",
    "print(model1.summary())\n",
    "alpha1 = model1.params[0]\n",
    "beta1 = model1.params[1]\n",
    "print(alpha1, beta1)"
   ]
  }
 ],
 "metadata": {
  "interpreter": {
   "hash": "09824589ad9c0fa880d8b870405273d9f1265c57a2c62e5a6b0da4409e11fd8e"
  },
  "kernelspec": {
   "display_name": "Python 3.9.7 64-bit",
   "language": "python",
   "name": "python3"
  },
  "language_info": {
   "codemirror_mode": {
    "name": "ipython",
    "version": 3
   },
   "file_extension": ".py",
   "mimetype": "text/x-python",
   "name": "python",
   "nbconvert_exporter": "python",
   "pygments_lexer": "ipython3",
   "version": "3.9.7"
  },
  "orig_nbformat": 4
 },
 "nbformat": 4,
 "nbformat_minor": 2
}
