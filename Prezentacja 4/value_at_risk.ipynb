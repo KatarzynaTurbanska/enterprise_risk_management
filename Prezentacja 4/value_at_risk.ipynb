{
 "cells": [
  {
   "cell_type": "code",
   "execution_count": 44,
   "metadata": {},
   "outputs": [],
   "source": [
    "import numpy as np\n",
    "import matplotlib.pyplot as plt\n",
    "import pandas as pd\n",
    "import seaborn as sns\n",
    "import statsmodels.api as sm\n",
    "from scipy.stats import kstest, jarque_bera, shapiro, ttest_1samp\n",
    "from statsmodels.stats.diagnostic import acorr_ljungbox,het_arch, het_white\n",
    "from statsmodels.graphics.tsaplots import plot_acf\n",
    "from scipy.stats import genextreme as gev\n",
    "import scipy.stats as stats\n",
    "from statsmodels.distributions.empirical_distribution import ECDF\n",
    "\n",
    "\n",
    "import warnings\n",
    "warnings.filterwarnings(\"ignore\")\n",
    "\n",
    "plt.rcParams[\"figure.figsize\"] = (12,7)\n",
    "plt.rcParams['axes.grid'] = True\n",
    "plt.rcParams['grid.linestyle'] = \"--\"\n",
    "plt.rcParams['savefig.facecolor']='white'"
   ]
  },
  {
   "cell_type": "code",
   "execution_count": 46,
   "metadata": {},
   "outputs": [],
   "source": [
    "def normality(data):\n",
    "    mu = np.mean(data)\n",
    "    sigma = np.std(data)\n",
    "\n",
    "    print(\"Test Kołmogorowa-Smirnowa: {}.\".format(kstest((data-mu)/sigma, 'norm').pvalue))\n",
    "    print(\"Test Jarque-Bera: {}.\".format(jarque_bera(data).pvalue))\n",
    "    print(\"Test Shapiro-Wilka: {}.\".format(shapiro(data).pvalue))\n",
    "\n",
    "    fig, axes = plt.subplots(1, 3, figsize=(20,6))\n",
    "\n",
    "    x = np.arange(min(data), max(data)+1)\n",
    "    axes[0].hist(data, bins=20, color='deeppink', alpha=0.6, density=True, label=\"Histogram prawdopodobieństwa danych\")\n",
    "    axes[0].plot(x, stats.norm.pdf(x, mu, sigma), color='indigo', label=\"Gęstość teoretyczna\")\n",
    "    axes[0].set_title('Porównanie gęstości')\n",
    "    axes[0].legend(loc=\"best\")\n",
    "\n",
    "    ecdf = ECDF(data)\n",
    "    axes[1].set_title('Porównanie dystrybuant')\n",
    "    axes[1].plot(x, ecdf(x), color='deeppink', label='Dystrybuanta empiryczna')\n",
    "    axes[1].plot(x, stats.norm.cdf(x, mu, sigma), color=\"indigo\", linestyle='--', label=\"Dystrybuanta teoretyczna\")\n",
    "    axes[1].legend(loc=\"best\")\n",
    "\n",
    "    bplot = axes[2].boxplot(data, patch_artist=True, medianprops=dict(color=\"deeppink\"))\n",
    "    bplot['boxes'][0].set_facecolor('white')\n",
    "    axes[2].grid(False)\n",
    "    axes[2].set_title(\"Boxplot danych\")\n",
    "\n",
    "    plt.show()"
   ]
  },
  {
   "cell_type": "markdown",
   "metadata": {},
   "source": [
    "# Przygotowanie danych"
   ]
  },
  {
   "cell_type": "code",
   "execution_count": 2,
   "metadata": {},
   "outputs": [],
   "source": [
    "cocoa = pd.read_csv('Cocoa.csv')\n",
    "milk = pd.read_csv('Milk.csv')\n",
    "sugar = pd.read_csv('Sugar.csv')"
   ]
  },
  {
   "cell_type": "code",
   "execution_count": 3,
   "metadata": {},
   "outputs": [],
   "source": [
    "cocoa['Date'] = pd.to_datetime(cocoa['Date'])\n",
    "milk['Date'] = pd.to_datetime(milk['Date'])\n",
    "sugar['Date'] = pd.to_datetime(sugar['Date'])"
   ]
  },
  {
   "cell_type": "code",
   "execution_count": 4,
   "metadata": {},
   "outputs": [],
   "source": [
    "cocoa['Close/Last'] = cocoa['Close/Last'].astype(float)\n",
    "milk['Close/Last'] = milk['Close/Last'].astype(float)\n",
    "sugar['Close/Last'] = sugar['Close/Last'].astype(float)"
   ]
  },
  {
   "cell_type": "code",
   "execution_count": 6,
   "metadata": {},
   "outputs": [],
   "source": [
    "pln_usd = pd.read_csv(\"PLNUSD=X.csv\")"
   ]
  },
  {
   "cell_type": "code",
   "execution_count": 7,
   "metadata": {},
   "outputs": [],
   "source": [
    "pln_usd = pln_usd[pln_usd[\"Close\"].notnull()]"
   ]
  },
  {
   "cell_type": "code",
   "execution_count": 8,
   "metadata": {},
   "outputs": [],
   "source": [
    "pln_usd.reset_index(inplace=True)"
   ]
  },
  {
   "cell_type": "code",
   "execution_count": 9,
   "metadata": {},
   "outputs": [],
   "source": [
    "pln_usd[\"Date\"] = pd.to_datetime(pln_usd[\"Date\"])"
   ]
  },
  {
   "cell_type": "code",
   "execution_count": 10,
   "metadata": {},
   "outputs": [],
   "source": [
    "dates = []\n",
    "for i in range(len(pln_usd)):\n",
    "    if pln_usd[\"Date\"][i] not in list(cocoa[\"Date\"]):\n",
    "        dates.append(pln_usd[\"Date\"][i])\n",
    "    if pln_usd[\"Date\"][i] not in list(milk[\"Date\"]):\n",
    "        dates.append(pln_usd[\"Date\"][i])\n",
    "    if pln_usd[\"Date\"][i] not in list(sugar[\"Date\"]):\n",
    "        dates.append(pln_usd[\"Date\"][i])"
   ]
  },
  {
   "cell_type": "code",
   "execution_count": 11,
   "metadata": {},
   "outputs": [],
   "source": [
    "for i in range(len(cocoa)):\n",
    "    if cocoa[\"Date\"][i] not in list(pln_usd[\"Date\"]):\n",
    "        dates.append(cocoa[\"Date\"][i])\n",
    "    if sugar[\"Date\"][i] not in list(pln_usd[\"Date\"]):\n",
    "        dates.append(sugar[\"Date\"][i])"
   ]
  },
  {
   "cell_type": "code",
   "execution_count": 12,
   "metadata": {},
   "outputs": [],
   "source": [
    "for i in range(len(milk)):\n",
    "    if milk[\"Date\"][i] not in list(pln_usd[\"Date\"]):\n",
    "        dates.append(milk[\"Date\"][i])"
   ]
  },
  {
   "cell_type": "code",
   "execution_count": 13,
   "metadata": {},
   "outputs": [],
   "source": [
    "dates = list(set(dates))"
   ]
  },
  {
   "cell_type": "code",
   "execution_count": 14,
   "metadata": {},
   "outputs": [],
   "source": [
    "for i in range(len(dates)):\n",
    "    pln_usd = pln_usd[pln_usd[\"Date\"] !=  dates[i]]\n",
    "    cocoa = cocoa[cocoa[\"Date\"] !=  dates[i]]\n",
    "    milk = milk[milk[\"Date\"] !=  dates[i]]\n",
    "    sugar = sugar[sugar[\"Date\"] !=  dates[i]]"
   ]
  },
  {
   "cell_type": "code",
   "execution_count": 15,
   "metadata": {},
   "outputs": [],
   "source": [
    "pln_usd = pln_usd[::-1]"
   ]
  },
  {
   "cell_type": "code",
   "execution_count": 16,
   "metadata": {},
   "outputs": [],
   "source": [
    "pln_usd.reset_index(inplace=True)\n",
    "cocoa.reset_index(inplace=True)\n",
    "milk.reset_index(inplace=True)\n",
    "sugar.reset_index(inplace=True)"
   ]
  },
  {
   "cell_type": "markdown",
   "metadata": {},
   "source": [
    "Zamiana danych na stopy procentowe."
   ]
  },
  {
   "cell_type": "code",
   "execution_count": 17,
   "metadata": {},
   "outputs": [],
   "source": [
    "T = 1/252\n",
    "cocoa_close = np.array([round((cocoa['Close/Last'][i] - cocoa['Close/Last'][i+1])/(cocoa['Close/Last'][i+1] * T),3) for i in range(len(cocoa)-1)])\n",
    "milk_close = np.array([round((milk['Close/Last'][i] - milk['Close/Last'][i+1])/(milk['Close/Last'][i+1] * T), 3) for i in range(len(milk)-1)])\n",
    "sugar_close = np.array([round((sugar['Close/Last'][i] - sugar['Close/Last'][i+1])/(sugar['Close/Last'][i+1] * T), 3) for i in range(len(sugar)-1)])\n",
    "pln_usd_close = np.array([round((pln_usd['Close'][i] - pln_usd['Close'][i+1])/(pln_usd['Close'][i+1] * T), 3) for i in range(len(pln_usd)-1)])"
   ]
  },
  {
   "cell_type": "code",
   "execution_count": 18,
   "metadata": {},
   "outputs": [],
   "source": [
    "cocoa_close /= 100\n",
    "milk_close /= 100\n",
    "sugar_close /= 100\n",
    "pln_usd_close /= 100"
   ]
  },
  {
   "cell_type": "code",
   "execution_count": 19,
   "metadata": {},
   "outputs": [
    {
     "name": "stdout",
     "output_type": "stream",
     "text": [
      "0.0011226437699680513 0.046895540026747284\n",
      "0.0017608067092651758 0.06315052203248535\n",
      "0.0007991214057507985 0.0481337056540928\n"
     ]
    }
   ],
   "source": [
    "mu_c = np.mean(cocoa_close)\n",
    "sigma_c = np.std(cocoa_close)\n",
    "print(mu_c, sigma_c)\n",
    "\n",
    "mu_m = np.mean(milk_close)\n",
    "sigma_m = np.std(milk_close)\n",
    "print(mu_m, sigma_m)\n",
    "\n",
    "mu_s = np.mean(sugar_close)\n",
    "sigma_s = np.std(sugar_close)\n",
    "print(mu_s, sigma_s)"
   ]
  },
  {
   "cell_type": "code",
   "execution_count": 22,
   "metadata": {},
   "outputs": [],
   "source": [
    "n = len(cocoa_close)\n",
    "C = cocoa_close.reshape(1,n)\n",
    "M = milk_close.reshape(1,n)\n",
    "S = sugar_close.reshape(1,n)\n",
    "R = np.concatenate([C,M,S],axis=0)"
   ]
  },
  {
   "cell_type": "markdown",
   "metadata": {},
   "source": [
    "$R_p = 0.4\\cdot R_c + 0.22\\cdot R_s + 0.38\\cdot R_m$"
   ]
  },
  {
   "cell_type": "code",
   "execution_count": 20,
   "metadata": {},
   "outputs": [],
   "source": [
    "Rp = 0.5 * cocoa_close + 0.2 * milk_close + 0.3 * sugar_close"
   ]
  },
  {
   "cell_type": "code",
   "execution_count": 23,
   "metadata": {},
   "outputs": [
    {
     "name": "stdout",
     "output_type": "stream",
     "text": [
      "Stopa zwrotu porfela: 0.0011532196485623003, ryzyko portfela: 0.03151053404357198.\n"
     ]
    }
   ],
   "source": [
    "w = np.array([0.5, 0.2, 0.3])\n",
    "print(\"Stopa zwrotu porfela: {}, ryzyko portfela: {}.\".format(w[0]*mu_c + w[1]*mu_m + w[2]*mu_s, np.sqrt(np.dot(w.T, np.dot(np.cov(R), w)))))"
   ]
  },
  {
   "cell_type": "markdown",
   "metadata": {},
   "source": [
    "# Wartość zagrożna"
   ]
  },
  {
   "cell_type": "markdown",
   "metadata": {},
   "source": [
    "## a) metoda parametryczna"
   ]
  },
  {
   "cell_type": "code",
   "execution_count": 29,
   "metadata": {},
   "outputs": [],
   "source": [
    "L = cocoa_close[cocoa_close > 0]"
   ]
  },
  {
   "cell_type": "code",
   "execution_count": 61,
   "metadata": {},
   "outputs": [],
   "source": [
    "cocoa_close *= 100"
   ]
  },
  {
   "cell_type": "code",
   "execution_count": 62,
   "metadata": {},
   "outputs": [
    {
     "name": "stdout",
     "output_type": "stream",
     "text": [
      "Test Kołmogorowa-Smirnowa: 0.5032361558324656.\n",
      "Test Jarque-Bera: 0.0.\n",
      "Test Shapiro-Wilka: 2.2536489723279374e-06.\n"
     ]
    },
    {
     "data": {
      "image/png": "[encoded data removed]",
      "text/plain": [
       "<Figure size 1440x432 with 3 Axes>"
      ]
     },
     "metadata": {
      "needs_background": "light"
     },
     "output_type": "display_data"
    }
   ],
   "source": [
    "normality(cocoa_close)"
   ]
  },
  {
   "cell_type": "code",
   "execution_count": 39,
   "metadata": {},
   "outputs": [
    {
     "data": {
      "image/png": "[encoded data removed]",
      "text/plain": [
       "<Figure size 864x504 with 1 Axes>"
      ]
     },
     "metadata": {
      "needs_background": "light"
     },
     "output_type": "display_data"
    }
   ],
   "source": [
    "t = np.linspace(0,0.5,100)\n",
    "plt.hist(L, density=True, bins=\"auto\", label=\"Histogram prawdopodobieństwa danych\", color='deeppink', alpha=0.6)\n",
    "fit = gev.fit(L)\n",
    "pdf = gev.pdf(t, *fit)\n",
    "plt.plot(t, pdf, label=\"Gęstość teoretyczna\", color='indigo')\n",
    "plt.title(\"Porównanie gęstości\", fontsize=20)\n",
    "plt.legend()\n",
    "#plt.savefig(\"gev_dens\")\n",
    "plt.show()"
   ]
  },
  {
   "cell_type": "code",
   "execution_count": 50,
   "metadata": {},
   "outputs": [
    {
     "name": "stdout",
     "output_type": "stream",
     "text": [
      "parametry rozkładu:  (-0.1915170844835163, 0.022761440773623947, 0.01933471301894278)\n"
     ]
    }
   ],
   "source": [
    "print(\"parametry rozkładu: \", fit) #shape, location, scale"
   ]
  },
  {
   "cell_type": "code",
   "execution_count": 64,
   "metadata": {},
   "outputs": [
    {
     "data": {
      "text/plain": [
       "0.07825894287081127"
      ]
     },
     "execution_count": 64,
     "metadata": {},
     "output_type": "execute_result"
    }
   ],
   "source": [
    "mu_c = np.mean(cocoa_close)\n",
    "sigma_c = np.std(cocoa_close)\n",
    "stats.norm.ppf(0.95,mu_c,sigma_c)/100"
   ]
  },
  {
   "cell_type": "code",
   "execution_count": 65,
   "metadata": {},
   "outputs": [
    {
     "data": {
      "text/plain": [
       "0.11021798361318876"
      ]
     },
     "execution_count": 65,
     "metadata": {},
     "output_type": "execute_result"
    }
   ],
   "source": [
    "stats.norm.ppf(0.99,mu_c,sigma_c)/100"
   ]
  },
  {
   "cell_type": "code",
   "execution_count": 51,
   "metadata": {},
   "outputs": [],
   "source": [
    "ksi = fit[0]\n",
    "mu = fit[1]\n",
    "sigma = fit[2]"
   ]
  },
  {
   "cell_type": "code",
   "execution_count": 55,
   "metadata": {},
   "outputs": [
    {
     "data": {
      "text/plain": [
       "0.06655797295748683"
      ]
     },
     "execution_count": 55,
     "metadata": {},
     "output_type": "execute_result"
    }
   ],
   "source": [
    "mu - (sigma/ksi) * (1-(-np.log(0.95))**(-ksi))"
   ]
  },
  {
   "cell_type": "code",
   "execution_count": 53,
   "metadata": {},
   "outputs": [
    {
     "data": {
      "text/plain": [
       "0.08188450864727688"
      ]
     },
     "execution_count": 53,
     "metadata": {},
     "output_type": "execute_result"
    }
   ],
   "source": [
    "mu - (sigma/ksi) * (1-(-np.log(0.99))**(-ksi))"
   ]
  },
  {
   "cell_type": "markdown",
   "metadata": {},
   "source": [
    "# b) metoda historyczna"
   ]
  },
  {
   "cell_type": "markdown",
   "metadata": {},
   "source": [
    "### zwykła"
   ]
  },
  {
   "cell_type": "code",
   "execution_count": 66,
   "metadata": {},
   "outputs": [
    {
     "data": {
      "text/plain": [
       "0.08951999999999995"
      ]
     },
     "execution_count": 66,
     "metadata": {},
     "output_type": "execute_result"
    }
   ],
   "source": [
    "np.quantile(L,0.95)"
   ]
  },
  {
   "cell_type": "code",
   "execution_count": 67,
   "metadata": {},
   "outputs": [
    {
     "data": {
      "text/plain": [
       "0.13597829999999997"
      ]
     },
     "execution_count": 67,
     "metadata": {},
     "output_type": "execute_result"
    }
   ],
   "source": [
    "np.quantile(L,0.99)"
   ]
  },
  {
   "cell_type": "markdown",
   "metadata": {},
   "source": [
    "### ważona"
   ]
  },
  {
   "cell_type": "code",
   "execution_count": 69,
   "metadata": {},
   "outputs": [],
   "source": [
    "lamb = 0.95\n",
    "n = len(L)"
   ]
  },
  {
   "cell_type": "code",
   "execution_count": 70,
   "metadata": {},
   "outputs": [],
   "source": [
    "w1 = 1/(1+np.sum([lamb**(i-1) for i in range(2,n+1)]))"
   ]
  },
  {
   "cell_type": "code",
   "execution_count": 73,
   "metadata": {},
   "outputs": [],
   "source": [
    "weights = [w1 * lamb**(i-1) for i in range(1,n+1)]"
   ]
  },
  {
   "cell_type": "code",
   "execution_count": 79,
   "metadata": {},
   "outputs": [],
   "source": [
    "sorted_L = sorted(list(zip(cocoa_close,weights)),key=lambda x: x[0])"
   ]
  }
 ],
 "metadata": {
  "interpreter": {
   "hash": "351c5fe914713a171920be9ed4a060137552e9cf6e4bf84b398c27249445c1f8"
  },
  "kernelspec": {
   "display_name": "Python 3.8.8",
   "language": "python",
   "name": "python3"
  },
  "language_info": {
   "codemirror_mode": {
    "name": "ipython",
    "version": 3
   },
   "file_extension": ".py",
   "mimetype": "text/x-python",
   "name": "python",
   "nbconvert_exporter": "python",
   "pygments_lexer": "ipython3",
   "version": "3.8.8"
  },
  "orig_nbformat": 4
 },
 "nbformat": 4,
 "nbformat_minor": 2
}
